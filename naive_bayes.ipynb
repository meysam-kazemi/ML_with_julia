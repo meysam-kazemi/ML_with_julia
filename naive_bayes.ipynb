{
 "cells": [
  {
   "cell_type": "code",
   "execution_count": 1,
   "metadata": {},
   "outputs": [],
   "source": [
    "import Statistics"
   ]
  },
  {
   "cell_type": "code",
   "execution_count": 2,
   "metadata": {},
   "outputs": [
    {
     "data": {
      "text/plain": [
       "100×5 Matrix{Float64}:\n",
       " 0.435855   0.552138   0.35017     0.625914     1.0\n",
       " 0.418316   0.55801    0.970549    0.028202     0.0\n",
       " 0.0425511  0.106551   0.80239     0.0575727    0.0\n",
       " 0.96017    0.259848   0.130008    0.976833     1.0\n",
       " 0.866035   0.0716926  0.426494    0.42161      0.0\n",
       " 0.507702   0.698847   0.831157    0.144794     1.0\n",
       " 0.235633   0.279742   0.0253972   0.296214     0.0\n",
       " 0.14155    0.450073   0.861429    0.790462     0.0\n",
       " 0.0989363  0.259983   0.782257    0.594284     0.0\n",
       " 0.749966   0.600157   0.388327    0.143786     0.0\n",
       " ⋮                                              \n",
       " 0.122784   0.640284   0.00588085  0.502691     1.0\n",
       " 0.0989226  0.981694   0.0239282   0.000287068  0.0\n",
       " 0.938865   0.404156   0.990087    0.600349     0.0\n",
       " 0.857281   0.166109   0.935074    0.344205     1.0\n",
       " 0.210239   0.40311    0.665651    0.881559     1.0\n",
       " 0.942845   0.267881   0.957587    0.581308     1.0\n",
       " 0.462905   0.37775    0.826841    0.147573     1.0\n",
       " 0.332526   0.834125   0.193823    0.402316     0.0\n",
       " 0.0904767  0.262772   0.983323    0.594999     1.0"
      ]
     },
     "metadata": {},
     "output_type": "display_data"
    }
   ],
   "source": [
    "# Generate data\n",
    "features = rand(100,4)\n",
    "target = randn(100)\n",
    "target .= target .>= 0 \n",
    "data = [features  target]"
   ]
  },
  {
   "cell_type": "code",
   "execution_count": 3,
   "metadata": {},
   "outputs": [
    {
     "data": {
      "text/plain": [
       "(100, 4)"
      ]
     },
     "metadata": {},
     "output_type": "display_data"
    }
   ],
   "source": [
    "size(features)"
   ]
  },
  {
   "cell_type": "code",
   "execution_count": 164,
   "metadata": {},
   "outputs": [
    {
     "data": {
      "text/plain": [
       "zip([1 2 … 5 6], [2 3 … 6 7])"
      ]
     },
     "metadata": {},
     "output_type": "display_data"
    }
   ],
   "source": []
  },
  {
   "cell_type": "code",
   "execution_count": 158,
   "metadata": {},
   "outputs": [
    {
     "data": {
      "text/plain": [
       "seprate_classes (generic function with 1 method)"
      ]
     },
     "metadata": {},
     "output_type": "display_data"
    }
   ],
   "source": [
    "function seprate_classes(x,y) # Separate the dataset into a subset of data for each class\n",
    "    seprated_classes = Dict()\n",
    "    for i in 1:size(x,1)\n",
    "        feature = x[i,:]\n",
    "        class_name = y[i]\n",
    "        if class_name ∉ keys(seprated_classes) \n",
    "            seprated_classes[class_name] = []\n",
    "        end\n",
    "        append!(seprated_classes[class_name],feature)\n",
    "    end\n",
    "    \n",
    "    return seprated_classes\n",
    "end"
   ]
  },
  {
   "cell_type": "code",
   "execution_count": 159,
   "metadata": {},
   "outputs": [
    {
     "data": {
      "text/plain": [
       "212-element Vector{Any}:\n",
       " 0.4358546386007687\n",
       " 0.5521383077421034\n",
       " 0.3501700528566135\n",
       " 0.6259140007432856\n",
       " 0.9601699596240566\n",
       " 0.25984811643200556\n",
       " 0.1300077052383739\n",
       " 0.97683347823513\n",
       " 0.5077020669283285\n",
       " 0.698846867956817\n",
       " ⋮\n",
       " 0.5813084803012523\n",
       " 0.4629052566326427\n",
       " 0.37775015371816434\n",
       " 0.8268411893818528\n",
       " 0.14757341382435352\n",
       " 0.09047670002268204\n",
       " 0.2627718982402032\n",
       " 0.9833234906810514\n",
       " 0.594998619093331"
      ]
     },
     "metadata": {},
     "output_type": "display_data"
    }
   ],
   "source": [
    "classes = seprate_classes(features,target)\n",
    "classes[1]"
   ]
  },
  {
   "cell_type": "code",
   "execution_count": 101,
   "metadata": {},
   "outputs": [
    {
     "data": {
      "text/plain": [
       "std_mean (generic function with 1 method)"
      ]
     },
     "metadata": {},
     "output_type": "display_data"
    }
   ],
   "source": [
    "function std_mean(x) # Calculates standard deviation and mean of features.\n",
    "    std = []\n",
    "    mean = []\n",
    "    for feature in eachcol(x)\n",
    "        append!(std,Statistics.std(feature))\n",
    "        append!(mean,Statistics.mean(feature))\n",
    "    end\n",
    "    return std , mean\n",
    "end"
   ]
  },
  {
   "cell_type": "code",
   "execution_count": 102,
   "metadata": {},
   "outputs": [
    {
     "data": {
      "text/plain": [
       "(Any[0.30924455970810494, 0.2794567534420882, 0.30675808785680186, 0.2886211045461954], Any[0.47459656614455403, 0.44330638272600636, 0.4616431719680532, 0.5104882696072105])"
      ]
     },
     "metadata": {},
     "output_type": "display_data"
    }
   ],
   "source": [
    "std,mean = std_mean(features)"
   ]
  },
  {
   "cell_type": "code",
   "execution_count": 87,
   "metadata": {},
   "outputs": [
    {
     "data": {
      "text/plain": [
       "(100, 4)"
      ]
     },
     "metadata": {},
     "output_type": "display_data"
    }
   ],
   "source": [
    "features |> size"
   ]
  },
  {
   "cell_type": "code",
   "execution_count": 60,
   "metadata": {},
   "outputs": [
    {
     "name": "stdout",
     "output_type": "stream",
     "text": [
      "Any[0.30924455970810494, 0.2794567534420882, 0.30675808785680186, 0.2886211045461954]\n",
      "Any[0.47459656614455403, 0.44330638272600636, 0.4616431719680532, 0.5104882696072105]\n"
     ]
    },
    {
     "data": {
      "text/plain": [
       "2-element Vector{Nothing}:\n",
       " nothing\n",
       " nothing"
      ]
     },
     "metadata": {},
     "output_type": "display_data"
    }
   ],
   "source": [
    "[println(i) for i in std_mean(features)]"
   ]
  },
  {
   "cell_type": "code",
   "execution_count": 9,
   "metadata": {},
   "outputs": [
    {
     "data": {
      "text/plain": [
       "16"
      ]
     },
     "metadata": {},
     "output_type": "display_data"
    }
   ],
   "source": [
    "length(stdmean)"
   ]
  },
  {
   "cell_type": "code",
   "execution_count": 10,
   "metadata": {},
   "outputs": [
    {
     "data": {
      "text/plain": [
       "distribution (generic function with 1 method)"
      ]
     },
     "metadata": {},
     "output_type": "display_data"
    }
   ],
   "source": [
    "function distribution(x,std,mean) # Gaussian Distribution Function\n",
    "    exponent = exp.(-((x .- mean).^2 ./ (2 .* std .^ 2)))\n",
    "    return exponent ./ (sqrt(2*π)*std)\n",
    "end"
   ]
  },
  {
   "cell_type": "code",
   "execution_count": 103,
   "metadata": {},
   "outputs": [
    {
     "data": {
      "text/plain": [
       "fit (generic function with 1 method)"
      ]
     },
     "metadata": {},
     "output_type": "display_data"
    }
   ],
   "source": [
    "function fit(x,y)\n",
    "    classes = seprate_classes(x,y)\n",
    "    class_summary = Dict()\n",
    "    for item in classes\n",
    "        @show class_name , feature_val = item.first , item.second\n",
    "        std,mean = std_mean(feature_val);\n",
    "        summary = Dict(\"mean\"=>mean,\"std\"=>std);\n",
    "        class_summary[class_name] = Dict(\"prior_proba\"=>length(feature_val)/size(x,1),\n",
    "                                        \"summary\"=>summary)\n",
    "    end\n",
    "    return class_summary        \n",
    "end"
   ]
  },
  {
   "cell_type": "code",
   "execution_count": 104,
   "metadata": {},
   "outputs": [
    {
     "name": "stdout",
     "output_type": "stream",
     "text": [
      "(class_name, feature_val) = (item.first, item.second) = "
     ]
    },
    {
     "name": "stdout",
     "output_type": "stream",
     "text": [
      "(0.0, Any[0.41831553353563133, 0.5580097994921733, 0.9705492853043308, 0.02820201166354941, 0.04255110047912847, 0.10655093693384088, 0.8023895886201174, 0.057572728953397934, 0.8660354743238119, 0.07169257638693138, 0.42649412745923754, 0.4216104852173289, 0.23563277620033585, 0.279741873140659, 0.025397218687447154, 0.29621401171408057, 0.1415500058214001, 0.45007315807978676, 0.8614287093933103, 0.7904619800124605, 0.09893626109597176, 0.2599833360838233, 0.7822573636344272, 0.5942836940285133, 0.7499659296433462, 0.6001573888692446, 0.3883270734885411, 0.14378550677612156, 0.021980436917751978, 0.10341541127791765, 0.0009298503195360741, 0.942380898415229, 0.33033675630451775, 0.5451060487008462, 0.4930075473648774, 0.6403835631259123, 0.44496272759376776, 0.2558767301152526, 0.10517437924645046, 0.8754516854732564, 0.7821254377238146, 0.9426253451910823, 0.15580661971352106, 0.24607360756442975, 0.31645580760175795, 0.34103725424358167, 0.32914566463033135, 0.924589092294555, 0.11575514806534304, 0.6196157345747335, 0.3406156536585405, 0.8824082064492093, 0.39503286005293037, 0.17806462344654195, 0.4861687870949787, 0.9471320516158295, 0.5469144760935509, 0.6649907916709349, 0.08120472951162683, 0.9260955987575413, 0.494084770051438, 0.4590612485702176, 0.7540945495915391, 0.558752997020502, 0.028386521636109108, 0.8962412897868494, 0.3538461568652017, 0.5898798016235006, 0.6756277602790591, 0.626238372297497, 0.3198845167038581, 0.3357244812445419, 0.1250975480148777, 0.44585224646357713, 0.0761319507854128, 0.5498315369874952, 0.7455622000736518, 0.17472025678768976, 0.5506437171880627, 0.23527552555750353, 0.9405300003017377, 0.03350038406258138, 0.871760068088187, 0.38100001595994015, 0.0965500142541994, 0.4845667631009788, 0.24187915797282278, 0.16759908854493366, 0.956212912148066, 0.24647256893669256, 0.3761123165940101, 0.019684203438486203, 0.09959003572046798, 0.08905098876124762, 0.3318046250636171, 0.13955896239317134, 0.4623130736988593, 0.7869470156904708, 0.17828664328277533, 0.5810000330447169, 0.1536927968986671, 0.7728750520696875, 0.09332288200675543, 0.16197898411776945, 0.28623578983852527, 0.9778283361701735, 0.2031307904929821, 0.9824516663637144, 0.22321292081016286, 0.5397169310675042, 0.13614841504661446, 0.8771498340170842, 0.22938370693177912, 0.8068439567590565, 0.3620076061919857, 0.4281600478148434, 0.6912592057550855, 0.39702585726578143, 0.5211998751972565, 0.12404364919186794, 0.965427350948973, 0.06511990670092671, 0.6829225028073077, 0.7043904427764117, 0.7017110501094375, 0.03021486458067435, 0.3860569063399226, 0.5814738474506994, 0.7904561939144542, 0.5405370760437387, 0.15730845226073398, 0.9241484986488776, 0.8228673086733908, 0.4920822152391995, 0.903756155933618, 0.49121905118698317, 0.41673482522172856, 0.9932850517303774, 0.49201480728145164, 0.5960571645628077, 0.11825275198991037, 0.1281349681257935, 0.3010917084832788, 0.5622992935644276, 0.6864288600017816, 0.6450525282261635, 0.9959513830930035, 0.3102859812162053, 0.5490792251093255, 0.5018491573270869, 0.822723289012365, 0.19186546380820702, 0.8679970989976815, 0.7391189701889869, 0.701306501547393, 0.5725552994011027, 0.45367246001652395, 0.057309725742168416, 0.9876861068615675, 0.68593674310283, 0.15560415618888446, 0.6449396622733687, 0.14156672488050304, 0.25445350022954716, 0.9774374460017589, 0.6131146592505066, 0.4918650227707575, 0.45597438696368364, 0.8153418567905383, 0.27811599958601385, 0.6738991172764722, 0.9901915337428382, 0.10372250152348139, 0.32196020229013766, 0.4253042365958072, 0.3317225927084302, 0.0989225552620655, 0.9816935540345118, 0.02392816010691068, 0.00028706773658959683, 0.9388654363159924, 0.404155972268916, 0.9900869342129728, 0.6003489069159041, 0.3325257028093037, 0.8341249053841034, 0.1938225269392687, 0.40231596107600553])\n",
      "(class_name, feature_val) = (item.first, item.second) = (1.0, Any[0.4358546386007687, 0.5521383077421034, 0.3501700528566135, 0.6259140007432856, 0.9601699596240566, 0.25984811643200556, 0.1300077052383739, 0.97683347823513, 0.5077020669283285, 0.698846867956817, 0.8311574356434491, 0.14479372811629876, 0.12736379026985334, 0.8500575418705446, 0.38930505987891006, 0.1253062552483165, 0.3555853870575152, 0.47275294522240385, 0.3305212617691976, 0.17111232651808106, 0.7140094739535937, 0.08983859411126172, 0.6243429672962758, 0.9204196821952082, 0.5081305470227876, 0.13984158471946773, 0.9398141866991628, 0.2800986635313554, 0.5275755746601302, 0.5106986566980053, 0.28719978162174864, 0.3237688137834791, 0.27922097159932147, 0.23206793147333515, 0.41677404715449573, 0.41571343536098604, 0.5143010938189342, 0.44048159924522134, 0.6205488936472322, 0.9245356304291218, 0.7677060311858429, 0.05273362139096527, 0.2828729993124479, 0.7316209876933779, 0.02352026305724131, 0.4361319684077596, 0.24565563553068703, 0.0014489645952592278, 0.6427407436619643, 0.7909978677165515, 0.9240648118852811, 0.5238044014649021, 0.23689186227287762, 0.5569443329522753, 0.43697878738595486, 0.8349077032641171, 0.11361894345582657, 0.4121911098076222, 0.6221525405108783, 0.2844068869121943, 0.047544615364146225, 0.1255034534971502, 0.44035862305110096, 0.3966955945641889, 0.628359139717818, 0.463937393471328, 0.05493170103756673, 0.814452207639735, 0.9325590710840808, 0.4395807713679566, 0.6516140907388851, 0.6655826402800155, 0.7927107778729526, 0.19224977770903418, 0.6187694513317427, 0.5665545181084983, 0.625259524597751, 0.2522887320846301, 0.2683000819643474, 0.7452319739172231, 0.7562895719449226, 0.11236630553909777, 0.18371446341906106, 0.4948092823008483, 0.8240296271231122, 0.2571827418471949, 0.9661005523449941, 0.5045499680677383, 0.9505768586675309, 0.11809028391495946, 0.9429968570352892, 0.6715690325808912, 0.2661762297842447, 0.030200156329841632, 0.3019341484122353, 0.11333255961066468, 0.8209223662738544, 0.01729945311795389, 0.6971333975193333, 0.770307819289002, 0.6160878592774783, 0.6377773404938485, 0.8469788811334017, 0.6223920247381111, 0.49788131191148677, 0.8188603244914122, 0.1904484545831755, 0.18911559371343756, 0.7390271498133473, 0.12384704568722493, 0.1572354336736953, 0.9139675933698026, 0.5523734288257351, 0.7815279244237113, 0.24570845738500913, 0.9018934059411452, 0.8512957651870822, 0.8685857427875858, 0.4021891234708638, 0.432461408703402, 0.4625852981952475, 0.46251146667337983, 0.6518117085617859, 0.2520933612673305, 0.046636018021293135, 0.956014380214268, 0.1238752622874284, 0.8686842313427082, 0.7246594566254491, 0.79186715811376, 0.053513781043245445, 0.7050080851907633, 0.7599414716427729, 0.017360256399537755, 0.2027859074277183, 0.7940274708324767, 0.9439885236079314, 0.5830271590292462, 0.13604733336149244, 0.7427399706298259, 0.1729251010535391, 0.39769249133982254, 0.2917001675617239, 0.34069471274306096, 0.03001563732827961, 0.5486291230634556, 0.8206324617680927, 0.6203957394953463, 0.12405073125399158, 0.726302569275025, 0.013855650342319836, 0.9688299197130245, 0.9416833171846357, 0.7475154629065185, 0.5441260490309228, 0.5897448848720055, 0.06963388991522745, 0.29234075455610675, 0.39951025651656025, 0.16632924927635384, 0.47142412082733176, 0.04838116147586513, 0.06957695175472611, 0.06670469040454097, 0.06801027568472007, 0.660084045227239, 0.054129953936664976, 0.8576339757603698, 0.40942869316558983, 0.6357247747843536, 0.47565305471992325, 0.31038139602689774, 0.5687838547252023, 0.06556960935137779, 0.9779395153769314, 0.30880004913211645, 0.10356574592799339, 0.10254327630296722, 0.7401101225191085, 0.5792630607386688, 0.05190669499271405, 0.5107438573187326, 0.8121863178405254, 0.1631694475871741, 0.6990648603369181, 0.9468637749280489, 0.03208440994475714, 0.07012828826868778, 0.12278418995853313, 0.6402844895987845, 0.005880854514358158, 0.5026912777335241, 0.8572811806939847, 0.16610893692882123, 0.9350740570802851, 0.34420546106687866, 0.21023922481841628, 0.40311038120702014, 0.6656514115892677, 0.881558910031505, 0.9428449594847403, 0.26788090444863977, 0.957587000431479, 0.5813084803012523, 0.4629052566326427, 0.37775015371816434, 0.8268411893818528, 0.14757341382435352, 0.09047670002268204, 0.2627718982402032, 0.9833234906810514, 0.594998619093331])\n"
     ]
    },
    {
     "data": {
      "text/plain": [
       "Dict{Any, Any} with 2 entries:\n",
       "  0.0 => Dict{String, Any}(\"summary\"=>Dict{String, Vector{Any}}(\"mean\"=>[0.4680…\n",
       "  1.0 => Dict{String, Any}(\"summary\"=>Dict{String, Vector{Any}}(\"mean\"=>[0.4764…"
      ]
     },
     "metadata": {},
     "output_type": "display_data"
    }
   ],
   "source": [
    "class_summary = fit(features,target)"
   ]
  },
  {
   "cell_type": "code",
   "execution_count": 105,
   "metadata": {},
   "outputs": [
    {
     "data": {
      "text/plain": [
       "Dict{String, Vector{Any}} with 2 entries:\n",
       "  \"mean\" => [0.476484]\n",
       "  \"std\"  => [0.295477]"
      ]
     },
     "metadata": {},
     "output_type": "display_data"
    }
   ],
   "source": [
    "class_summary[1][\"summary\"]"
   ]
  },
  {
   "cell_type": "code",
   "execution_count": 71,
   "metadata": {},
   "outputs": [
    {
     "data": {
      "text/plain": [
       "(Any[0.29771757506982854], Any[0.46802516251492404])"
      ]
     },
     "metadata": {},
     "output_type": "display_data"
    }
   ],
   "source": [
    "classes = seprate_classes(features,target)\n",
    "std_mean(classes[0])\n",
    "# [i for i in std_mean(class)]"
   ]
  },
  {
   "cell_type": "code",
   "execution_count": 13,
   "metadata": {},
   "outputs": [
    {
     "data": {
      "text/plain": [
       "predict (generic function with 1 method)"
      ]
     },
     "metadata": {},
     "output_type": "display_data"
    }
   ],
   "source": [
    "function predict(x,class_summary)\n",
    "    MAPs = []\n",
    "    for row in eachrow(x)\n",
    "        joint_proba = Dict()\n",
    "        for item in class_summary\n",
    "            class_name , features = item.first,item.second\n",
    "            total_features = length(features[\"summary\"])\n",
    "            likelihood =1\n",
    "\n",
    "            for idx in 1:total_features\n",
    "                feature = row[idx]\n",
    "                mean_ = features[\"summary\"][idx][\"mean\"]\n",
    "                std_ = features[\"summary\"][idx][\"std\"]\n",
    "                normal_proba = distribution(feature,std_,mean_)\n",
    "                likelihood *= normal_proba\n",
    "            end\n",
    "            prior_proba = features[\"prior_proba\"]\n",
    "            joint_proba[class_name] = prior_proba * likelihood\n",
    "        end\n",
    "        MAP = max((x,y)->joint_proba[x]>joint_proba[y] ? x : y,keys(joint_proba)) # ?\n",
    "        append!(MAPs,MAP)\n",
    "    end\n",
    "    return MAPs\n",
    "end"
   ]
  },
  {
   "cell_type": "code",
   "execution_count": 14,
   "metadata": {},
   "outputs": [
    {
     "ename": "MethodError",
     "evalue": "MethodError: no method matching getindex(::String, ::String)\nClosest candidates are:\n  getindex(::AbstractString, !Matched::Colon) at strings/basic.jl:189\n  getindex(::String, !Matched::Int64) at strings/string.jl:226\n  getindex(::AbstractString, !Matched::Integer) at strings/basic.jl:184\n  ...",
     "output_type": "error",
     "traceback": [
      "MethodError: no method matching getindex(::String, ::String)\n",
      "Closest candidates are:\n",
      "  getindex(::AbstractString, !Matched::Colon) at strings/basic.jl:189\n",
      "  getindex(::String, !Matched::Int64) at strings/string.jl:226\n",
      "  getindex(::AbstractString, !Matched::Integer) at strings/basic.jl:184\n",
      "  ...\n",
      "\n",
      "Stacktrace:\n",
      " [1] predict(x::Matrix{Float64}, class_summary::Dict{Any, Any})\n",
      "   @ Main c:\\0.Files\\Code\\JULIA\\ML_with_julia\\naive_bayes.ipynb:12\n",
      " [2] top-level scope\n",
      "   @ c:\\0.Files\\Code\\JULIA\\ML_with_julia\\naive_bayes.ipynb:1"
     ]
    }
   ],
   "source": [
    "maps = predict(features,class_summary)"
   ]
  },
  {
   "cell_type": "code",
   "execution_count": 73,
   "metadata": {},
   "outputs": [
    {
     "name": "stdout",
     "output_type": "stream",
     "text": [
      "Dict{String, Any}(\"summary\" => Dict{String, Vector{Any}}(\"mean\" => [0.46802516251492404, 0.47648447401781435], \"std\" => [0.29771757506982854, 0.29547705058560075]), \"prior_proba\" => 1.88)\n",
      "doroste\n",
      "feature = row[idx] = 0.4358546386007687\n"
     ]
    },
    {
     "ename": "KeyError",
     "evalue": "KeyError: key 1 not found",
     "output_type": "error",
     "traceback": [
      "KeyError: key 1 not found\n",
      "\n",
      "Stacktrace:\n",
      " [1] getindex(h::Dict{String, Vector{Any}}, key::Int64)\n",
      "   @ Base .\\dict.jl:498\n",
      " [2] top-level scope\n",
      "   @ c:\\0.Files\\Code\\JULIA\\ML_with_julia\\naive_bayes.ipynb:13"
     ]
    }
   ],
   "source": [
    "maps = []\n",
    "for row in eachrow(features)\n",
    "    for item in class_summary\n",
    "        class_name , features_val = item.first,item.second\n",
    "        # println(class_name)\n",
    "        println(features_val)\n",
    "        total_features = length(features_val[\"summary\"])\n",
    "        likelihood =1\n",
    "        \n",
    "        println(\"doroste\")\n",
    "        for idx in 1:total_features\n",
    "            @show feature = row[idx]\n",
    "            mean_ = features_val[\"summary\"][idx][\"mean\"]\n",
    "            std_ = features_val[\"summary\"][idx][\"std\"]\n",
    "            normal_proba = distribution(feature,std_,mean_)\n",
    "            likelihood *= normal_proba\n",
    "        end\n",
    "        prior_proba = features_val[\"prior_proba\"]\n",
    "        joint_proba[class_name] = prior_proba * likelihood\n",
    "\n",
    "        println(\"==============\")\n",
    "    end\n",
    "end\n",
    "    "
   ]
  },
  {
   "cell_type": "code",
   "execution_count": 93,
   "metadata": {},
   "outputs": [
    {
     "data": {
      "text/plain": [
       "212-element Vector{Any}:\n",
       " 0.4358546386007687\n",
       " 0.5521383077421034\n",
       " 0.3501700528566135\n",
       " 0.6259140007432856\n",
       " 0.9601699596240566\n",
       " 0.25984811643200556\n",
       " 0.1300077052383739\n",
       " 0.97683347823513\n",
       " 0.5077020669283285\n",
       " 0.698846867956817\n",
       " ⋮\n",
       " 0.5813084803012523\n",
       " 0.4629052566326427\n",
       " 0.37775015371816434\n",
       " 0.8268411893818528\n",
       " 0.14757341382435352\n",
       " 0.09047670002268204\n",
       " 0.2627718982402032\n",
       " 0.9833234906810514\n",
       " 0.594998619093331"
      ]
     },
     "metadata": {},
     "output_type": "display_data"
    }
   ],
   "source": [
    "class_summary[1][\"summary\"][\"mean\"]"
   ]
  },
  {
   "cell_type": "code",
   "execution_count": 17,
   "metadata": {},
   "outputs": [
    {
     "data": {
      "text/plain": [
       "2-element Vector{Pair{String, Int64}}:\n",
       " \"wwww\" => 6\n",
       " \"qqqq\" => 2"
      ]
     },
     "metadata": {},
     "output_type": "display_data"
    }
   ],
   "source": [
    "[item.first=>item.second[i] for (i,item) in enumerate(a)]"
   ]
  },
  {
   "cell_type": "code",
   "execution_count": 18,
   "metadata": {},
   "outputs": [
    {
     "name": "stdout",
     "output_type": "stream",
     "text": [
      "\"wwww\" => 6\n",
      "\"wwww\" => 7\n",
      "\"wwww\" => 8\n",
      "\"wwww\" => 9\n",
      "\"qqqq\" => 1\n",
      "\"qqqq\" => 2\n",
      "\"qqqq\" => 3\n",
      "\"qqqq\" => 4\n"
     ]
    }
   ],
   "source": [
    "for key in keys(a)\n",
    "    for (i,item) in enumerate(a[key])\n",
    "        println(key=>item)\n",
    "    end\n",
    "end"
   ]
  },
  {
   "cell_type": "code",
   "execution_count": 19,
   "metadata": {},
   "outputs": [
    {
     "data": {
      "text/plain": [
       "5×5 Matrix{Pair{Int64, Int64}}:\n",
       " 1=>1  1=>2  1=>3  1=>4  1=>5\n",
       " 2=>1  2=>2  2=>3  2=>4  2=>5\n",
       " 3=>1  3=>2  3=>3  3=>4  3=>5\n",
       " 4=>1  4=>2  4=>3  4=>4  4=>5\n",
       " 5=>1  5=>2  5=>3  5=>4  5=>5"
      ]
     },
     "metadata": {},
     "output_type": "display_data"
    }
   ],
   "source": [
    "[i=>j for i in 1:5,j in 1:5]"
   ]
  },
  {
   "cell_type": "code",
   "execution_count": null,
   "metadata": {},
   "outputs": [],
   "source": []
  }
 ],
 "metadata": {
  "kernelspec": {
   "display_name": "Julia 1.8.5",
   "language": "julia",
   "name": "julia-1.8"
  },
  "language_info": {
   "file_extension": ".jl",
   "mimetype": "application/julia",
   "name": "julia",
   "version": "1.8.5"
  },
  "orig_nbformat": 4
 },
 "nbformat": 4,
 "nbformat_minor": 2
}
