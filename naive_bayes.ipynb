{
 "cells": [
  {
   "cell_type": "code",
   "execution_count": 28,
   "metadata": {},
   "outputs": [],
   "source": [
    "import Statistics"
   ]
  },
  {
   "cell_type": "code",
   "execution_count": 20,
   "metadata": {},
   "outputs": [
    {
     "data": {
      "text/plain": [
       "100×5 Matrix{Float64}:\n",
       " 0.939838   0.339041   0.572614  0.993944  1.0\n",
       " 0.155375   0.62961    0.910406  0.84807   1.0\n",
       " 0.331673   0.824359   0.260982  0.726228  0.0\n",
       " 0.313382   0.844747   0.315542  0.406222  1.0\n",
       " 0.0950407  0.863619   0.6495    0.343214  0.0\n",
       " 0.923825   0.342852   0.317916  0.337804  0.0\n",
       " 0.244011   0.359283   0.373809  0.726707  1.0\n",
       " 0.62611    0.364935   0.66541   0.794139  1.0\n",
       " 0.87288    0.589729   0.710286  0.415384  1.0\n",
       " 0.727073   0.762336   0.436547  0.642825  0.0\n",
       " ⋮                                         \n",
       " 0.178725   0.951463   0.341189  0.534031  0.0\n",
       " 0.17472    0.919849   0.499719  0.21921   0.0\n",
       " 0.927395   0.123      0.239165  0.738991  0.0\n",
       " 0.221498   0.752771   0.274489  0.566189  1.0\n",
       " 0.45283    0.242427   0.343484  0.584939  0.0\n",
       " 0.0173767  0.147683   0.163432  0.596849  1.0\n",
       " 0.0344194  0.350416   0.155455  0.746123  1.0\n",
       " 0.615042   0.0162762  0.281998  0.340092  1.0\n",
       " 0.516135   0.0212464  0.314057  0.778457  0.0"
      ]
     },
     "metadata": {},
     "output_type": "display_data"
    }
   ],
   "source": [
    "# Generate data\n",
    "features = rand(100,4)\n",
    "target = randn(100)\n",
    "target .= target .>= 0 \n",
    "data = [features  target]"
   ]
  },
  {
   "cell_type": "code",
   "execution_count": 63,
   "metadata": {},
   "outputs": [
    {
     "data": {
      "text/plain": [
       "(100, 4)"
      ]
     },
     "metadata": {},
     "output_type": "display_data"
    }
   ],
   "source": [
    "size(features)"
   ]
  },
  {
   "cell_type": "code",
   "execution_count": 78,
   "metadata": {},
   "outputs": [
    {
     "data": {
      "text/plain": [
       "seprate_classes (generic function with 1 method)"
      ]
     },
     "metadata": {},
     "output_type": "display_data"
    }
   ],
   "source": [
    "function seprate_classes(x,y) # Separate the dataset into a subset of data for each class\n",
    "    seprated_classes = Dict()\n",
    "    for i in 1:size(x,1)\n",
    "        feature = x[i,:]\n",
    "        class_name = y[i]\n",
    "        if class_name ∉ keys(seprated_classes) \n",
    "            seprated_classes[class_name] = []\n",
    "        end\n",
    "        append!(seprated_classes[class_name],feature)\n",
    "    end\n",
    "    return seprated_classes\n",
    "end"
   ]
  },
  {
   "cell_type": "code",
   "execution_count": 79,
   "metadata": {},
   "outputs": [
    {
     "data": {
      "text/plain": [
       "Dict{Any, Any} with 2 entries:\n",
       "  0.0 => Any[0.331673, 0.824359, 0.260982, 0.726228, 0.0950407, 0.863619, 0.649…\n",
       "  1.0 => Any[0.939838, 0.339041, 0.572614, 0.993944, 0.155375, 0.62961, 0.91040…"
      ]
     },
     "metadata": {},
     "output_type": "display_data"
    }
   ],
   "source": [
    "classes = seprate_classes(features,target)"
   ]
  },
  {
   "cell_type": "code",
   "execution_count": 93,
   "metadata": {},
   "outputs": [
    {
     "data": {
      "text/plain": [
       "std_mean (generic function with 1 method)"
      ]
     },
     "metadata": {},
     "output_type": "display_data"
    }
   ],
   "source": [
    "function std_mean(x) # Calculates standard deviation and mean of features.\n",
    "    stat = Dict(\"std\"=>[],\"mean\"=>[])\n",
    "    for feature in eachrow(x)\n",
    "        append!(stat[\"std\"],Statistics.std(feature))\n",
    "        append!(stat[\"mean\"],Statistics.mean(feature))\n",
    "    end\n",
    "    return stat\n",
    "end"
   ]
  },
  {
   "cell_type": "code",
   "execution_count": 94,
   "metadata": {},
   "outputs": [
    {
     "data": {
      "text/plain": [
       "Dict{String, Vector{Any}} with 2 entries:\n",
       "  \"mean\" => [0.711359, 0.635865, 0.535811, 0.469973, 0.487843, 0.480599, 0.4259…\n",
       "  \"std\"  => [0.310874, 0.342205, 0.280904, 0.253567, 0.337911, 0.29568, 0.20874…"
      ]
     },
     "metadata": {},
     "output_type": "display_data"
    }
   ],
   "source": [
    "stdmean = std_mean(features)"
   ]
  },
  {
   "cell_type": "code",
   "execution_count": 95,
   "metadata": {},
   "outputs": [
    {
     "data": {
      "text/plain": [
       "100"
      ]
     },
     "metadata": {},
     "output_type": "display_data"
    }
   ],
   "source": [
    "length(stdmean[\"mean\"])"
   ]
  },
  {
   "cell_type": "code",
   "execution_count": 106,
   "metadata": {},
   "outputs": [
    {
     "data": {
      "text/plain": [
       "distribution (generic function with 1 method)"
      ]
     },
     "metadata": {},
     "output_type": "display_data"
    }
   ],
   "source": [
    "function distribution(x,std,mean) # Gaussian Distribution Function\n",
    "    exponent = exp.(-((x .- mean).^2 ./ (2 .* std .^ 2)))\n",
    "    return exponent ./ (sqrt(2*π)*std)\n",
    "end"
   ]
  },
  {
   "cell_type": "code",
   "execution_count": 108,
   "metadata": {},
   "outputs": [
    {
     "data": {
      "text/plain": [
       "100×4 Matrix{Float64}:\n",
       " 0.97956   0.626408  1.16164   0.848987\n",
       " 0.435029  1.1656    0.845006  0.961883\n",
       " 1.09062   0.837965  0.880029  1.12868\n",
       " 1.30018   0.527788  1.30699   1.52437\n",
       " 0.600733  0.636164  1.05295   1.07728\n",
       " 0.438687  1.21049   1.15972   1.20072\n",
       " 1.30717   1.81614   1.85247   0.676904\n",
       " 2.20942   0.860038  2.1225    1.33316\n",
       " 1.04291   1.97615   1.95749   1.00602\n",
       " 2.30786   1.94778   1.01315   2.73285\n",
       " ⋮                             \n",
       " 0.749214  0.480978  1.06626   1.19096\n",
       " 0.836467  0.460906  1.15368   0.921818\n",
       " 0.571695  0.629867  0.810913  0.861239\n",
       " 1.03629   0.78091   1.23306   1.4403\n",
       " 2.57828   1.46226   2.47904   1.29309\n",
       " 1.10363   1.49658   1.5249    0.553693\n",
       " 0.837297  1.27518   1.11086   0.506018\n",
       " 0.763892  0.781586  1.61113   1.61471\n",
       " 1.17662   0.601829  1.19445   0.636709"
      ]
     },
     "metadata": {},
     "output_type": "display_data"
    }
   ],
   "source": [
    "mean_ , std_ = stdmean[\"mean\"] , stdmean[\"std\"]\n",
    "distribution(features,std_,mean_)"
   ]
  },
  {
   "cell_type": "code",
   "execution_count": 116,
   "metadata": {},
   "outputs": [
    {
     "data": {
      "text/plain": [
       "fit (generic function with 1 method)"
      ]
     },
     "metadata": {},
     "output_type": "display_data"
    }
   ],
   "source": [
    "function fit(x,y)\n",
    "    classes = seprate_classes(x,y)\n",
    "    class_summary = Dict()\n",
    "    for item in classes\n",
    "        class_name , feature_val = item.first , item.second\n",
    "        class_summary[class_name] = Dict(\"prior_proba\"=>length(feature_val)/size(x,1),\n",
    "                                        \"summary\"=>[i for i in std_mean(feature_val)])\n",
    "    end\n",
    "    return class_summary        \n",
    "end"
   ]
  },
  {
   "cell_type": "code",
   "execution_count": 117,
   "metadata": {},
   "outputs": [
    {
     "data": {
      "text/plain": [
       "Dict{Any, Any} with 2 entries:\n",
       "  0.0 => Dict{String, Any}(\"summary\"=>Pair{String, Vector{Any}}[\"mean\"=>[0.3316…\n",
       "  1.0 => Dict{String, Any}(\"summary\"=>Pair{String, Vector{Any}}[\"mean\"=>[0.9398…"
      ]
     },
     "metadata": {},
     "output_type": "display_data"
    }
   ],
   "source": [
    "fit(features,target)"
   ]
  },
  {
   "cell_type": "code",
   "execution_count": 132,
   "metadata": {},
   "outputs": [
    {
     "data": {
      "text/plain": [
       "predict (generic function with 1 method)"
      ]
     },
     "metadata": {},
     "output_type": "display_data"
    }
   ],
   "source": [
    "function predict(x,class_summary)\n",
    "    MAPs = []\n",
    "    for row in eachrow(x)\n",
    "        joint_proba = Dict()\n",
    "        for item in class_summary\n",
    "            class_name , features = item.first,item.second\n",
    "            total_features = length(features[\"summary\"])\n",
    "            likelihood =1\n",
    "\n",
    "            for idx in 1:total_features\n",
    "                feature = row[idx]\n",
    "                mean_ = features[\"summary\"][idx][\"mean\"]\n",
    "                std_ = features[\"summary\"][idx][\"std\"]\n",
    "                normal_proba = distribution(feature,std_,mean_)\n",
    "                likelihood *= normal_proba\n",
    "            end\n",
    "            prior_proba = features[\"prior_proba\"]\n",
    "            joint_proba[class_name] = prior_proba * likelihood\n",
    "        end\n",
    "        MAP = max((x,y)->joint_proba[x]>joint_proba[y] ? x : y,keys(joint_proba)) # ?\n",
    "        append!(MAPs,MAP)\n",
    "    end\n",
    "    return MAPs\n",
    "end"
   ]
  },
  {
   "cell_type": "code",
   "execution_count": 133,
   "metadata": {},
   "outputs": [],
   "source": []
  },
  {
   "cell_type": "code",
   "execution_count": 134,
   "metadata": {},
   "outputs": [],
   "source": []
  },
  {
   "cell_type": "code",
   "execution_count": 135,
   "metadata": {},
   "outputs": [],
   "source": []
  },
  {
   "cell_type": "code",
   "execution_count": null,
   "metadata": {},
   "outputs": [],
   "source": []
  }
 ],
 "metadata": {
  "kernelspec": {
   "display_name": "Julia 1.8.5",
   "language": "julia",
   "name": "julia-1.8"
  },
  "language_info": {
   "file_extension": ".jl",
   "mimetype": "application/julia",
   "name": "julia",
   "version": "1.8.5"
  },
  "orig_nbformat": 4
 },
 "nbformat": 4,
 "nbformat_minor": 2
}
