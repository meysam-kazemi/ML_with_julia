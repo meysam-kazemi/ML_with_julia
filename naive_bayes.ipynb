{
 "cells": [
  {
   "cell_type": "code",
   "execution_count": 1,
   "metadata": {},
   "outputs": [],
   "source": [
    "import Statistics"
   ]
  },
  {
   "cell_type": "code",
   "execution_count": 36,
   "metadata": {},
   "outputs": [
    {
     "data": {
      "text/plain": [
       "100×5 Matrix{Float64}:\n",
       " 0.275182   0.444251   0.632674    0.828238  1.0\n",
       " 0.391216   0.345759   0.646216    0.752417  1.0\n",
       " 0.357564   0.603281   0.760644    0.611507  0.0\n",
       " 0.4922     0.584713   0.727695    0.607048  0.0\n",
       " 0.129269   0.908936   0.302889    0.140603  0.0\n",
       " 0.0510008  0.0592317  0.00744346  0.822262  1.0\n",
       " 0.249976   0.0417189  0.444894    0.875329  0.0\n",
       " 0.523887   0.32305    0.220975    0.128879  0.0\n",
       " 0.853443   0.416895   0.142651    0.150012  1.0\n",
       " 0.98796    0.971922   0.22905     0.103246  1.0\n",
       " ⋮                                           \n",
       " 0.155655   0.499991   0.00258236  0.66141   1.0\n",
       " 0.554915   0.59908    0.118149    0.746277  1.0\n",
       " 0.393676   0.870807   0.935769    0.816109  0.0\n",
       " 0.433669   0.432481   0.931418    0.81516   1.0\n",
       " 0.653601   0.527884   0.0385365   0.609924  0.0\n",
       " 0.421326   0.33974    0.989121    0.316383  1.0\n",
       " 0.470162   0.682437   0.289545    0.84587   0.0\n",
       " 0.908293   0.945891   0.893266    0.348585  1.0\n",
       " 0.658054   0.885958   0.886233    0.446441  1.0"
      ]
     },
     "metadata": {},
     "output_type": "display_data"
    }
   ],
   "source": [
    "# Generate data\n",
    "features = rand(100,4)\n",
    "target = randn(100)\n",
    "target .= target .>= 0 \n",
    "data = [features  target]"
   ]
  },
  {
   "cell_type": "code",
   "execution_count": 3,
   "metadata": {},
   "outputs": [
    {
     "data": {
      "text/plain": [
       "(100, 4)"
      ]
     },
     "metadata": {},
     "output_type": "display_data"
    }
   ],
   "source": [
    "size(features)"
   ]
  },
  {
   "cell_type": "code",
   "execution_count": 4,
   "metadata": {},
   "outputs": [
    {
     "data": {
      "text/plain": [
       "seprate_classes (generic function with 1 method)"
      ]
     },
     "metadata": {},
     "output_type": "display_data"
    }
   ],
   "source": [
    "function seprate_classes(x,y) # Separate the dataset into a subset of data for each class\n",
    "    seprated_classes = Dict()\n",
    "    for i in 1:size(x,1)\n",
    "        feature = x[i,:]\n",
    "        class_name = y[i]\n",
    "        if class_name ∉ keys(seprated_classes) \n",
    "            seprated_classes[class_name] = []\n",
    "        end\n",
    "        append!(seprated_classes[class_name],feature)\n",
    "    end\n",
    "    return seprated_classes\n",
    "end"
   ]
  },
  {
   "cell_type": "code",
   "execution_count": 5,
   "metadata": {},
   "outputs": [
    {
     "data": {
      "text/plain": [
       "Dict{Any, Any} with 2 entries:\n",
       "  0.0 => Any[0.428984, 0.945018, 0.98762, 0.377946, 0.597905, 0.699222, 0.85448…\n",
       "  1.0 => Any[0.747751, 0.0694416, 0.432497, 0.611331, 0.0935131, 0.00723967, 0.…"
      ]
     },
     "metadata": {},
     "output_type": "display_data"
    }
   ],
   "source": [
    "classes = seprate_classes(features,target)"
   ]
  },
  {
   "cell_type": "code",
   "execution_count": 6,
   "metadata": {},
   "outputs": [
    {
     "data": {
      "text/plain": [
       "std_mean (generic function with 1 method)"
      ]
     },
     "metadata": {},
     "output_type": "display_data"
    }
   ],
   "source": [
    "function std_mean(x) # Calculates standard deviation and mean of features.\n",
    "    stat = Dict(\"std\"=>[],\"mean\"=>[])\n",
    "    for feature in eachcol(x)\n",
    "        append!(stat[\"std\"],Statistics.std(feature))\n",
    "        append!(stat[\"mean\"],Statistics.mean(feature))\n",
    "    end\n",
    "    stdmean = []\n",
    "    for key in keys(stat)\n",
    "        for val in stat[key]\n",
    "            append!(stdmean,key=>val)\n",
    "        end\n",
    "    end\n",
    "    return stdmean\n",
    "end"
   ]
  },
  {
   "cell_type": "code",
   "execution_count": 7,
   "metadata": {},
   "outputs": [
    {
     "data": {
      "text/plain": [
       "16-element Vector{Any}:\n",
       "  \"mean\"\n",
       " 0.4133634074405287\n",
       "  \"mean\"\n",
       " 0.49731092372839797\n",
       "  \"mean\"\n",
       " 0.5271376204443912\n",
       "  \"mean\"\n",
       " 0.5230942395581106\n",
       "  \"std\"\n",
       " 0.2908688280985218\n",
       "  \"std\"\n",
       " 0.3036763904607861\n",
       "  \"std\"\n",
       " 0.2725333464432797\n",
       "  \"std\"\n",
       " 0.28445110977257027"
      ]
     },
     "metadata": {},
     "output_type": "display_data"
    }
   ],
   "source": [
    "stdmean = std_mean(features)"
   ]
  },
  {
   "cell_type": "code",
   "execution_count": 8,
   "metadata": {},
   "outputs": [
    {
     "data": {
      "text/plain": [
       "Vector{Any}\u001b[90m (alias for \u001b[39m\u001b[90mArray{Any, 1}\u001b[39m\u001b[90m)\u001b[39m"
      ]
     },
     "metadata": {},
     "output_type": "display_data"
    }
   ],
   "source": [
    "stdmean |> typeof"
   ]
  },
  {
   "cell_type": "code",
   "execution_count": 9,
   "metadata": {},
   "outputs": [
    {
     "data": {
      "text/plain": [
       "16"
      ]
     },
     "metadata": {},
     "output_type": "display_data"
    }
   ],
   "source": [
    "length(stdmean)"
   ]
  },
  {
   "cell_type": "code",
   "execution_count": 10,
   "metadata": {},
   "outputs": [
    {
     "data": {
      "text/plain": [
       "distribution (generic function with 1 method)"
      ]
     },
     "metadata": {},
     "output_type": "display_data"
    }
   ],
   "source": [
    "function distribution(x,std,mean) # Gaussian Distribution Function\n",
    "    exponent = exp.(-((x .- mean).^2 ./ (2 .* std .^ 2)))\n",
    "    return exponent ./ (sqrt(2*π)*std)\n",
    "end"
   ]
  },
  {
   "cell_type": "code",
   "execution_count": 11,
   "metadata": {},
   "outputs": [
    {
     "data": {
      "text/plain": [
       "fit (generic function with 1 method)"
      ]
     },
     "metadata": {},
     "output_type": "display_data"
    }
   ],
   "source": [
    "function fit(x,y)\n",
    "    classes = seprate_classes(x,y)\n",
    "    class_summary = Dict()\n",
    "    for item in classes\n",
    "        class_name , feature_val = item.first , item.second\n",
    "        class_summary[class_name] = Dict(\"prior_proba\"=>length(feature_val)/size(x,1),\n",
    "                                        \"summary\"=>[i for i in std_mean(feature_val)])\n",
    "    end\n",
    "    return class_summary        \n",
    "end"
   ]
  },
  {
   "cell_type": "code",
   "execution_count": 12,
   "metadata": {},
   "outputs": [
    {
     "data": {
      "text/plain": [
       "Dict{Any, Any} with 2 entries:\n",
       "  0.0 => Dict{String, Any}(\"summary\"=>Any[\"mean\", 0.515391, \"std\", 0.282968], \"…\n",
       "  1.0 => Dict{String, Any}(\"summary\"=>Any[\"mean\", 0.466998, \"std\", 0.296369], \"…"
      ]
     },
     "metadata": {},
     "output_type": "display_data"
    }
   ],
   "source": [
    "class_summary = fit(features,target)"
   ]
  },
  {
   "cell_type": "code",
   "execution_count": 13,
   "metadata": {},
   "outputs": [
    {
     "data": {
      "text/plain": [
       "predict (generic function with 1 method)"
      ]
     },
     "metadata": {},
     "output_type": "display_data"
    }
   ],
   "source": [
    "function predict(x,class_summary)\n",
    "    MAPs = []\n",
    "    for row in eachrow(x)\n",
    "        joint_proba = Dict()\n",
    "        for item in class_summary\n",
    "            class_name , features = item.first,item.second\n",
    "            total_features = length(features[\"summary\"])\n",
    "            likelihood =1\n",
    "\n",
    "            for idx in 1:total_features\n",
    "                feature = row[idx]\n",
    "                mean_ = features[\"summary\"][idx][\"mean\"]\n",
    "                std_ = features[\"summary\"][idx][\"std\"]\n",
    "                normal_proba = distribution(feature,std_,mean_)\n",
    "                likelihood *= normal_proba\n",
    "            end\n",
    "            prior_proba = features[\"prior_proba\"]\n",
    "            joint_proba[class_name] = prior_proba * likelihood\n",
    "        end\n",
    "        MAP = max((x,y)->joint_proba[x]>joint_proba[y] ? x : y,keys(joint_proba)) # ?\n",
    "        append!(MAPs,MAP)\n",
    "    end\n",
    "    return MAPs\n",
    "end"
   ]
  },
  {
   "cell_type": "code",
   "execution_count": 14,
   "metadata": {},
   "outputs": [
    {
     "ename": "MethodError",
     "evalue": "MethodError: no method matching getindex(::String, ::String)\nClosest candidates are:\n  getindex(::AbstractString, !Matched::Colon) at strings/basic.jl:189\n  getindex(::String, !Matched::Int64) at strings/string.jl:226\n  getindex(::AbstractString, !Matched::Integer) at strings/basic.jl:184\n  ...",
     "output_type": "error",
     "traceback": [
      "MethodError: no method matching getindex(::String, ::String)\n",
      "Closest candidates are:\n",
      "  getindex(::AbstractString, !Matched::Colon) at strings/basic.jl:189\n",
      "  getindex(::String, !Matched::Int64) at strings/string.jl:226\n",
      "  getindex(::AbstractString, !Matched::Integer) at strings/basic.jl:184\n",
      "  ...\n",
      "\n",
      "Stacktrace:\n",
      " [1] predict(x::Matrix{Float64}, class_summary::Dict{Any, Any})\n",
      "   @ Main c:\\0.Files\\Code\\JULIA\\ML_with_julia\\naive_bayes.ipynb:12\n",
      " [2] top-level scope\n",
      "   @ c:\\0.Files\\Code\\JULIA\\ML_with_julia\\naive_bayes.ipynb:1"
     ]
    }
   ],
   "source": [
    "maps = predict(features,class_summary)"
   ]
  },
  {
   "cell_type": "code",
   "execution_count": 39,
   "metadata": {},
   "outputs": [
    {
     "name": "stdout",
     "output_type": "stream",
     "text": [
      "Dict{String, Any}(\"summary\" => Any[\"mean\", 0.5153905088085918, \"std\", 0.28296832561538665], \"prior_proba\" => 1.92)\n",
      "doroste\n",
      "feature = row[idx] = 0.2751819096876341\n"
     ]
    },
    {
     "ename": "MethodError",
     "evalue": "MethodError: no method matching getindex(::String, ::String)\nClosest candidates are:\n  getindex(::AbstractString, !Matched::Colon) at strings/basic.jl:189\n  getindex(::String, !Matched::Int64) at strings/string.jl:226\n  getindex(::AbstractString, !Matched::Integer) at strings/basic.jl:184\n  ...",
     "output_type": "error",
     "traceback": [
      "MethodError: no method matching getindex(::String, ::String)\n",
      "Closest candidates are:\n",
      "  getindex(::AbstractString, !Matched::Colon) at strings/basic.jl:189\n",
      "  getindex(::String, !Matched::Int64) at strings/string.jl:226\n",
      "  getindex(::AbstractString, !Matched::Integer) at strings/basic.jl:184\n",
      "  ...\n",
      "\n",
      "Stacktrace:\n",
      " [1] top-level scope\n",
      "   @ c:\\0.Files\\Code\\JULIA\\ML_with_julia\\naive_bayes.ipynb:13"
     ]
    }
   ],
   "source": [
    "maps = []\n",
    "for row in eachrow(features)\n",
    "    for item in class_summary\n",
    "        class_name , features_val = item.first,item.second\n",
    "        # println(class_name)\n",
    "        println(features_val)\n",
    "        total_features = length(features_val[\"summary\"])\n",
    "        likelihood =1\n",
    "        \n",
    "        println(\"doroste\")\n",
    "        for idx in 1:total_features\n",
    "            @show feature = row[idx]\n",
    "            mean_ = features_val[\"summary\"][idx][\"mean\"]\n",
    "            std_ = features_val[\"summary\"][idx][\"std\"]\n",
    "            normal_proba = distribution(feature,std_,mean_)\n",
    "            likelihood *= normal_proba\n",
    "        end\n",
    "        prior_proba = features_val[\"prior_proba\"]\n",
    "        joint_proba[class_name] = prior_proba * likelihood\n",
    "\n",
    "        println(\"==============\")\n",
    "    end\n",
    "end\n",
    "    "
   ]
  },
  {
   "cell_type": "code",
   "execution_count": 45,
   "metadata": {},
   "outputs": [
    {
     "data": {
      "text/plain": [
       "4-element Vector{Any}:\n",
       "  \"mean\"\n",
       " 0.5153905088085918\n",
       "  \"std\"\n",
       " 0.28296832561538665"
      ]
     },
     "metadata": {},
     "output_type": "display_data"
    }
   ],
   "source": [
    "class_summary[0][\"summary\"]"
   ]
  },
  {
   "cell_type": "code",
   "execution_count": 17,
   "metadata": {},
   "outputs": [
    {
     "data": {
      "text/plain": [
       "2-element Vector{Pair{String, Int64}}:\n",
       " \"wwww\" => 6\n",
       " \"qqqq\" => 2"
      ]
     },
     "metadata": {},
     "output_type": "display_data"
    }
   ],
   "source": [
    "[item.first=>item.second[i] for (i,item) in enumerate(a)]"
   ]
  },
  {
   "cell_type": "code",
   "execution_count": 18,
   "metadata": {},
   "outputs": [
    {
     "name": "stdout",
     "output_type": "stream",
     "text": [
      "\"wwww\" => 6\n",
      "\"wwww\" => 7\n",
      "\"wwww\" => 8\n",
      "\"wwww\" => 9\n",
      "\"qqqq\" => 1\n",
      "\"qqqq\" => 2\n",
      "\"qqqq\" => 3\n",
      "\"qqqq\" => 4\n"
     ]
    }
   ],
   "source": [
    "for key in keys(a)\n",
    "    for (i,item) in enumerate(a[key])\n",
    "        println(key=>item)\n",
    "    end\n",
    "end"
   ]
  },
  {
   "cell_type": "code",
   "execution_count": 19,
   "metadata": {},
   "outputs": [
    {
     "data": {
      "text/plain": [
       "5×5 Matrix{Pair{Int64, Int64}}:\n",
       " 1=>1  1=>2  1=>3  1=>4  1=>5\n",
       " 2=>1  2=>2  2=>3  2=>4  2=>5\n",
       " 3=>1  3=>2  3=>3  3=>4  3=>5\n",
       " 4=>1  4=>2  4=>3  4=>4  4=>5\n",
       " 5=>1  5=>2  5=>3  5=>4  5=>5"
      ]
     },
     "metadata": {},
     "output_type": "display_data"
    }
   ],
   "source": [
    "[i=>j for i in 1:5,j in 1:5]"
   ]
  },
  {
   "cell_type": "code",
   "execution_count": null,
   "metadata": {},
   "outputs": [],
   "source": []
  }
 ],
 "metadata": {
  "kernelspec": {
   "display_name": "Julia 1.8.5",
   "language": "julia",
   "name": "julia-1.8"
  },
  "language_info": {
   "file_extension": ".jl",
   "mimetype": "application/julia",
   "name": "julia",
   "version": "1.8.5"
  },
  "orig_nbformat": 4
 },
 "nbformat": 4,
 "nbformat_minor": 2
}
