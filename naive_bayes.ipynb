{
 "cells": [
  {
   "cell_type": "code",
   "execution_count": 5,
   "metadata": {},
   "outputs": [],
   "source": [
    "import Statistics"
   ]
  },
  {
   "cell_type": "code",
   "execution_count": 6,
   "metadata": {},
   "outputs": [
    {
     "data": {
      "text/plain": [
       "100×5 Matrix{Float64}:\n",
       " 0.504244   0.121357  0.335059   0.833726   0.0\n",
       " 0.857522   0.195658  0.290936   0.667798   1.0\n",
       " 0.572218   0.600397  0.742903   0.0253299  1.0\n",
       " 0.79046    0.505987  0.135975   0.411041   1.0\n",
       " 0.88033    0.402325  0.498024   0.954556   0.0\n",
       " 0.941442   0.982863  0.0417341  0.535912   1.0\n",
       " 0.691419   0.154565  0.0844429  0.622999   1.0\n",
       " 0.119686   0.137514  0.386212   0.202894   0.0\n",
       " 0.456357   0.531945  0.257931   0.0123152  0.0\n",
       " 0.0994617  0.300315  0.722777   0.175727   0.0\n",
       " ⋮                                          \n",
       " 0.117298   0.354608  0.429392   0.796158   0.0\n",
       " 0.425023   0.586345  0.0959007  0.692643   1.0\n",
       " 0.907219   0.93532   0.629518   0.406089   0.0\n",
       " 0.643712   0.628473  0.686888   0.116309   1.0\n",
       " 0.164039   0.569774  0.266927   0.571539   0.0\n",
       " 0.844377   0.990152  0.474299   0.900324   1.0\n",
       " 0.747085   0.935444  0.822042   0.750314   1.0\n",
       " 0.849962   0.246876  0.216915   0.520319   1.0\n",
       " 0.473827   0.422905  0.923124   0.194479   0.0"
      ]
     },
     "metadata": {},
     "output_type": "display_data"
    }
   ],
   "source": [
    "# Generate data\n",
    "features = rand(100,4)\n",
    "target = randn(100)\n",
    "target .= target .>= 0 \n",
    "data = [features  target]"
   ]
  },
  {
   "cell_type": "code",
   "execution_count": 7,
   "metadata": {},
   "outputs": [
    {
     "data": {
      "text/plain": [
       "(100, 4)"
      ]
     },
     "metadata": {},
     "output_type": "display_data"
    }
   ],
   "source": [
    "size(features)"
   ]
  },
  {
   "cell_type": "code",
   "execution_count": 8,
   "metadata": {},
   "outputs": [
    {
     "data": {
      "text/plain": [
       "4×1 Matrix{Float64}:\n",
       " 0.504244278014571\n",
       " 0.12135702687195071\n",
       " 0.3350591675376179\n",
       " 0.8337256260423394"
      ]
     },
     "metadata": {},
     "output_type": "display_data"
    }
   ],
   "source": [
    "features[1,:,:]"
   ]
  },
  {
   "cell_type": "code",
   "execution_count": 9,
   "metadata": {},
   "outputs": [
    {
     "data": {
      "text/plain": [
       "seprate_classes (generic function with 1 method)"
      ]
     },
     "metadata": {},
     "output_type": "display_data"
    }
   ],
   "source": [
    "function seprate_classes(x,y) # Separate the dataset into a subset of data for each class\n",
    "    seprated_classes = Dict()\n",
    "    for i in 1:size(x,1)\n",
    "        feature = x[i,:,:]' # size(x[i,:])->(4,)  -  size(x[i,:,:])->(4,1)  - size(x[i,:,:])->(1,4)\n",
    "        class_name = y[i]\n",
    "        if class_name ∉ keys(seprated_classes) \n",
    "            seprated_classes[class_name] = Array{Float64}(undef,0,4) # empty array : size -> 0,4\n",
    "        end\n",
    "        seprated_classes[class_name] = [seprated_classes[class_name];feature];\n",
    "    end\n",
    "    \n",
    "    return seprated_classes\n",
    "end"
   ]
  },
  {
   "cell_type": "code",
   "execution_count": 10,
   "metadata": {},
   "outputs": [
    {
     "data": {
      "text/plain": [
       "54×4 Matrix{Float64}:\n",
       " 0.857522    0.195658  0.290936   0.667798\n",
       " 0.572218    0.600397  0.742903   0.0253299\n",
       " 0.79046     0.505987  0.135975   0.411041\n",
       " 0.941442    0.982863  0.0417341  0.535912\n",
       " 0.691419    0.154565  0.0844429  0.622999\n",
       " 0.945969    0.984145  0.292694   0.991409\n",
       " 0.208384    0.446753  0.164714   0.692378\n",
       " 0.266104    0.46692   0.822737   0.693993\n",
       " 0.660704    0.173468  0.884122   0.158046\n",
       " 0.147885    0.802437  0.316474   0.213371\n",
       " ⋮                                \n",
       " 0.913371    0.86115   0.677597   0.631333\n",
       " 0.583608    0.825903  0.936387   0.341628\n",
       " 0.776422    0.121244  0.698616   0.349257\n",
       " 0.00742869  0.834739  0.882961   0.83086\n",
       " 0.425023    0.586345  0.0959007  0.692643\n",
       " 0.643712    0.628473  0.686888   0.116309\n",
       " 0.844377    0.990152  0.474299   0.900324\n",
       " 0.747085    0.935444  0.822042   0.750314\n",
       " 0.849962    0.246876  0.216915   0.520319"
      ]
     },
     "metadata": {},
     "output_type": "display_data"
    }
   ],
   "source": [
    "classes = seprate_classes(features,target)\n",
    "classes[1]"
   ]
  },
  {
   "cell_type": "code",
   "execution_count": 66,
   "metadata": {},
   "outputs": [
    {
     "data": {
      "text/plain": [
       "std_mean (generic function with 1 method)"
      ]
     },
     "metadata": {},
     "output_type": "display_data"
    }
   ],
   "source": [
    "function std_mean(x) # Calculates standard deviation and mean of features.\n",
    "    std = []\n",
    "    mean = []\n",
    "    for feature in eachcol(x)\n",
    "        append!(std,Statistics.std(feature))\n",
    "        append!(mean,Statistics.mean(feature))\n",
    "    end\n",
    "    return std , mean\n",
    "end"
   ]
  },
  {
   "cell_type": "code",
   "execution_count": 67,
   "metadata": {},
   "outputs": [
    {
     "data": {
      "text/plain": [
       "(Any[0.27704334068848846, 0.28379069393422274, 0.2819322858441184, 0.290403747225323], Any[0.5246479215265838, 0.5332334537589887, 0.4998228941142742, 0.5085780369794282])"
      ]
     },
     "metadata": {},
     "output_type": "display_data"
    }
   ],
   "source": [
    "std,mean = std_mean(features)"
   ]
  },
  {
   "cell_type": "code",
   "execution_count": 69,
   "metadata": {},
   "outputs": [
    {
     "data": {
      "text/plain": [
       "(4,)"
      ]
     },
     "metadata": {},
     "output_type": "display_data"
    }
   ],
   "source": [
    "mean |> size"
   ]
  },
  {
   "cell_type": "code",
   "execution_count": 15,
   "metadata": {},
   "outputs": [
    {
     "data": {
      "text/plain": [
       "distribution (generic function with 1 method)"
      ]
     },
     "metadata": {},
     "output_type": "display_data"
    }
   ],
   "source": [
    "function distribution(x,std,mean) # Gaussian Distribution Function\n",
    "    exponent = exp.(-((x .- mean).^2 ./ (2 .* std .^ 2)))\n",
    "    return exponent ./ (sqrt(2*π)*std)\n",
    "end"
   ]
  },
  {
   "cell_type": "code",
   "execution_count": 73,
   "metadata": {},
   "outputs": [
    {
     "data": {
      "text/plain": [
       "fit (generic function with 1 method)"
      ]
     },
     "metadata": {},
     "output_type": "display_data"
    }
   ],
   "source": [
    "function fit(x,y)\n",
    "    classes = seprate_classes(x,y)\n",
    "    class_summary = Dict()\n",
    "    for item in classes\n",
    "        class_name , feature_val = item.first , item.second\n",
    "        std,mean = std_mean(feature_val);\n",
    "        summary = Dict(\"mean\"=>mean,\"std\"=>std);\n",
    "        class_summary[class_name] = Dict(\"prior_proba\"=>length(feature_val)/size(x,1),\n",
    "                                        \"summary\"=>summary)\n",
    "    end\n",
    "    return class_summary        \n",
    "end"
   ]
  },
  {
   "cell_type": "code",
   "execution_count": 74,
   "metadata": {},
   "outputs": [
    {
     "name": "stdout",
     "output_type": "stream",
     "text": [
      "(46, 4)\n",
      "(54, 4)\n"
     ]
    },
    {
     "data": {
      "text/plain": [
       "Dict{Any, Any} with 2 entries:\n",
       "  0.0 => Dict{String, Any}(\"summary\"=>Dict{String, Vector{Any}}(\"mean\"=>[0.4741…\n",
       "  1.0 => Dict{String, Any}(\"summary\"=>Dict{String, Vector{Any}}(\"mean\"=>[0.5676…"
      ]
     },
     "metadata": {},
     "output_type": "display_data"
    }
   ],
   "source": [
    "class_summary = fit(features,target)"
   ]
  },
  {
   "cell_type": "code",
   "execution_count": 18,
   "metadata": {},
   "outputs": [
    {
     "data": {
      "text/plain": [
       "Dict{String, Vector{Any}} with 2 entries:\n",
       "  \"mean\" => [0.567659, 0.568018, 0.529242, 0.491545]\n",
       "  \"std\"  => [0.269737, 0.295958, 0.309129, 0.28641]"
      ]
     },
     "metadata": {},
     "output_type": "display_data"
    }
   ],
   "source": [
    "class_summary[1][\"summary\"]"
   ]
  },
  {
   "cell_type": "code",
   "execution_count": 84,
   "metadata": {},
   "outputs": [
    {
     "data": {
      "text/plain": [
       "predict (generic function with 1 method)"
      ]
     },
     "metadata": {},
     "output_type": "display_data"
    }
   ],
   "source": [
    "function predict(x,class_summary)\n",
    "    MAPs = []\n",
    "    for row in eachrow(x)\n",
    "        joint_proba = Dict()\n",
    "        for item in class_summary\n",
    "            class_name , features = item.first,item.second\n",
    "            total_features = length(features[\"summary\"])\n",
    "            likelihood =1\n",
    "\n",
    "            for idx in 1:total_features\n",
    "                feature = row[idx]\n",
    "                mean_ = features[\"summary\"][\"mean\"][idx]\n",
    "                std_ = features[\"summary\"][\"std\"][idx]\n",
    "                normal_proba = distribution(feature,std_,mean_)\n",
    "                likelihood *= normal_proba\n",
    "            end\n",
    "            prior_proba = features[\"prior_proba\"]\n",
    "            joint_proba[class_name] = prior_proba * likelihood\n",
    "        end\n",
    "        MAP = max((x,y)->joint_proba[x]>joint_proba[y] ? x : y,keys(joint_proba)) \n",
    "        append!(MAPs,MAP)\n",
    "    end\n",
    "    return MAPs\n",
    "end"
   ]
  },
  {
   "cell_type": "code",
   "execution_count": 85,
   "metadata": {},
   "outputs": [
    {
     "name": "stdout",
     "output_type": "stream",
     "text": [
      "doroste!\n"
     ]
    },
    {
     "ename": "MethodError",
     "evalue": "MethodError: no method matching isless(::Base.KeySet{Any, Dict{Any, Any}}, ::var\"#23#24\"{Dict{Any, Any}})\nClosest candidates are:\n  isless(::Any, !Matched::Missing) at missing.jl:88\n  isless(!Matched::Missing, ::Any) at missing.jl:87",
     "output_type": "error",
     "traceback": [
      "MethodError: no method matching isless(::Base.KeySet{Any, Dict{Any, Any}}, ::var\"#23#24\"{Dict{Any, Any}})\n",
      "Closest candidates are:\n",
      "  isless(::Any, !Matched::Missing) at missing.jl:88\n",
      "  isless(!Matched::Missing, ::Any) at missing.jl:87\n",
      "\n",
      "Stacktrace:\n",
      " [1] max(x::Function, y::Base.KeySet{Any, Dict{Any, Any}})\n",
      "   @ Base .\\operators.jl:480\n",
      " [2] predict(x::Matrix{Float64}, class_summary::Dict{Any, Any})\n",
      "   @ Main c:\\0.Files\\Code\\JULIA\\ML_with_julia\\naive_bayes.ipynb:21\n",
      " [3] top-level scope\n",
      "   @ c:\\0.Files\\Code\\JULIA\\ML_with_julia\\naive_bayes.ipynb:1"
     ]
    }
   ],
   "source": [
    "maps = predict(features,class_summary)"
   ]
  },
  {
   "cell_type": "code",
   "execution_count": 107,
   "metadata": {},
   "outputs": [],
   "source": [
    "global maps = []\n",
    "global joint_proba = Dict()\n",
    "for row in eachrow(features)\n",
    "    joint_proba = Dict()\n",
    "    for item in class_summary\n",
    "        class_name , features_val = item.first,item.second\n",
    "        # println(class_name)\n",
    "        total_features = length(features_val[\"summary\"])\n",
    "        likelihood =1\n",
    "        \n",
    "        for idx in 1:total_features\n",
    "            feature = row[idx]\n",
    "            mean_ = features_val[\"summary\"][\"mean\"][idx]\n",
    "            std_ = features_val[\"summary\"][\"std\"][idx]\n",
    "            normal_proba = distribution(feature,std_,mean_)\n",
    "            likelihood *= normal_proba\n",
    "        end\n",
    "        prior_proba = features_val[\"prior_proba\"]\n",
    "        joint_proba[class_name] = prior_proba * likelihood\n",
    "    end\n",
    "    map = reduce((x,y)->joint_proba[x]>joint_proba[y] ? x : y,keys(joint_proba))\n",
    "    append!(maps,map)\n",
    "end\n",
    "    "
   ]
  },
  {
   "cell_type": "code",
   "execution_count": 112,
   "metadata": {},
   "outputs": [
    {
     "data": {
      "text/plain": [
       "43.0"
      ]
     },
     "metadata": {},
     "output_type": "display_data"
    }
   ],
   "source": [
    "sum(abs.(maps - target))"
   ]
  },
  {
   "cell_type": "code",
   "execution_count": 97,
   "metadata": {},
   "outputs": [
    {
     "data": {
      "text/plain": [
       "1×4 Matrix{Int64}:\n",
       " 1  2  3  12"
      ]
     },
     "metadata": {},
     "output_type": "display_data"
    }
   ],
   "source": [
    "a= Dict(\"q\"=>5,\"s\"=>12)\n",
    "b = [1 2 3 12]"
   ]
  },
  {
   "cell_type": "code",
   "execution_count": 25,
   "metadata": {},
   "outputs": [
    {
     "ename": "UndefVarError",
     "evalue": "UndefVarError: a not defined",
     "output_type": "error",
     "traceback": [
      "UndefVarError: a not defined\n",
      "\n",
      "Stacktrace:\n",
      " [1] top-level scope\n",
      "   @ c:\\0.Files\\Code\\JULIA\\ML_with_julia\\naive_bayes.ipynb:1"
     ]
    }
   ],
   "source": [
    "for key in keys(a)\n",
    "    for (i,item) in enumerate(a[key])\n",
    "        println(key=>item)\n",
    "    end\n",
    "end"
   ]
  },
  {
   "cell_type": "code",
   "execution_count": 26,
   "metadata": {},
   "outputs": [
    {
     "data": {
      "text/plain": [
       "5×5 Matrix{Pair{Int64, Int64}}:\n",
       " 1=>1  1=>2  1=>3  1=>4  1=>5\n",
       " 2=>1  2=>2  2=>3  2=>4  2=>5\n",
       " 3=>1  3=>2  3=>3  3=>4  3=>5\n",
       " 4=>1  4=>2  4=>3  4=>4  4=>5\n",
       " 5=>1  5=>2  5=>3  5=>4  5=>5"
      ]
     },
     "metadata": {},
     "output_type": "display_data"
    }
   ],
   "source": [
    "[i=>j for i in 1:5,j in 1:5]"
   ]
  },
  {
   "cell_type": "code",
   "execution_count": null,
   "metadata": {},
   "outputs": [],
   "source": []
  }
 ],
 "metadata": {
  "kernelspec": {
   "display_name": "Julia 1.8.5",
   "language": "julia",
   "name": "julia-1.8"
  },
  "language_info": {
   "file_extension": ".jl",
   "mimetype": "application/julia",
   "name": "julia",
   "version": "1.8.5"
  },
  "orig_nbformat": 4
 },
 "nbformat": 4,
 "nbformat_minor": 2
}
