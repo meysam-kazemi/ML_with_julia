{
 "cells": [
  {
   "cell_type": "code",
   "execution_count": 28,
   "metadata": {},
   "outputs": [],
   "source": [
    "import Statistics"
   ]
  },
  {
   "cell_type": "code",
   "execution_count": 20,
   "metadata": {},
   "outputs": [
    {
     "data": {
      "text/plain": [
       "100×5 Matrix{Float64}:\n",
       " 0.939838   0.339041   0.572614  0.993944  1.0\n",
       " 0.155375   0.62961    0.910406  0.84807   1.0\n",
       " 0.331673   0.824359   0.260982  0.726228  0.0\n",
       " 0.313382   0.844747   0.315542  0.406222  1.0\n",
       " 0.0950407  0.863619   0.6495    0.343214  0.0\n",
       " 0.923825   0.342852   0.317916  0.337804  0.0\n",
       " 0.244011   0.359283   0.373809  0.726707  1.0\n",
       " 0.62611    0.364935   0.66541   0.794139  1.0\n",
       " 0.87288    0.589729   0.710286  0.415384  1.0\n",
       " 0.727073   0.762336   0.436547  0.642825  0.0\n",
       " ⋮                                         \n",
       " 0.178725   0.951463   0.341189  0.534031  0.0\n",
       " 0.17472    0.919849   0.499719  0.21921   0.0\n",
       " 0.927395   0.123      0.239165  0.738991  0.0\n",
       " 0.221498   0.752771   0.274489  0.566189  1.0\n",
       " 0.45283    0.242427   0.343484  0.584939  0.0\n",
       " 0.0173767  0.147683   0.163432  0.596849  1.0\n",
       " 0.0344194  0.350416   0.155455  0.746123  1.0\n",
       " 0.615042   0.0162762  0.281998  0.340092  1.0\n",
       " 0.516135   0.0212464  0.314057  0.778457  0.0"
      ]
     },
     "metadata": {},
     "output_type": "display_data"
    }
   ],
   "source": [
    "# Generate data\n",
    "features = rand(100,4)\n",
    "target = randn(100)\n",
    "target .= target .>= 0 \n",
    "data = [features  target]"
   ]
  },
  {
   "cell_type": "code",
   "execution_count": 59,
   "metadata": {},
   "outputs": [
    {
     "ename": "UndefVarError",
     "evalue": "UndefVarError: featuera not defined",
     "output_type": "error",
     "traceback": [
      "UndefVarError: featuera not defined\n",
      "\n",
      "Stacktrace:\n",
      " [1] top-level scope\n",
      "   @ c:\\0.Files\\Code\\JULIA\\ML_with_julia\\naive_bayes.ipynb:1"
     ]
    }
   ],
   "source": [
    "length(featuera)"
   ]
  },
  {
   "cell_type": "code",
   "execution_count": 54,
   "metadata": {},
   "outputs": [
    {
     "data": {
      "text/plain": [
       "seprate_classes (generic function with 1 method)"
      ]
     },
     "metadata": {},
     "output_type": "display_data"
    }
   ],
   "source": [
    "function seprate_classes(x,y) # Separate the dataset into a subset of data for each class\n",
    "    seprated_classes = Dict()\n",
    "    for i in 1:length(x)\n",
    "        feature = x[i,:]\n",
    "        class_name = y[i]\n",
    "        if class_name ∉ keys(seprated_classes) \n",
    "            seprated_classes[class_name] = []\n",
    "        end\n",
    "        append!(seprated_classes[class_name],feature)\n",
    "    end\n",
    "    return seprate_classes\n",
    "end"
   ]
  },
  {
   "cell_type": "code",
   "execution_count": 55,
   "metadata": {},
   "outputs": [
    {
     "ename": "BoundsError",
     "evalue": "BoundsError: attempt to access 100×4 Matrix{Float64} at index [101, 1:4]",
     "output_type": "error",
     "traceback": [
      "BoundsError: attempt to access 100×4 Matrix{Float64} at index [101, 1:4]\n",
      "\n",
      "Stacktrace:\n",
      " [1] throw_boundserror(A::Matrix{Float64}, I::Tuple{Int64, Base.Slice{Base.OneTo{Int64}}})\n",
      "   @ Base .\\abstractarray.jl:703\n",
      " [2] checkbounds\n",
      "   @ .\\abstractarray.jl:668 [inlined]\n",
      " [3] _getindex\n",
      "   @ .\\multidimensional.jl:874 [inlined]\n",
      " [4] getindex\n",
      "   @ .\\abstractarray.jl:1241 [inlined]\n",
      " [5] seprate_classes(x::Matrix{Float64}, y::Vector{Float64})\n",
      "   @ Main c:\\0.Files\\Code\\JULIA\\ML_with_julia\\naive_bayes.ipynb:4\n",
      " [6] top-level scope\n",
      "   @ c:\\0.Files\\Code\\JULIA\\ML_with_julia\\naive_bayes.ipynb:1"
     ]
    }
   ],
   "source": [
    "seprate_classes(features,target)"
   ]
  },
  {
   "cell_type": "code",
   "execution_count": 33,
   "metadata": {},
   "outputs": [],
   "source": [
    "function stat_info(x) # Calculates standard deviation and mean of features.\n",
    "    stat = Dict(\"std\"=>[],\"mean\"=>[])\n",
    "    for feature in 1:length(x)\n",
    "        Statistics.std()\n",
    "\n",
    "end"
   ]
  },
  {
   "cell_type": "code",
   "execution_count": 46,
   "metadata": {},
   "outputs": [
    {
     "data": {
      "text/plain": [
       "1-element Vector{Any}:\n",
       " 1"
      ]
     },
     "metadata": {},
     "output_type": "display_data"
    }
   ],
   "source": [
    "a = Dict(\"b\"=>[])\n",
    "\n",
    "append!(a[\"b\"],1)"
   ]
  },
  {
   "cell_type": "code",
   "execution_count": 52,
   "metadata": {},
   "outputs": [
    {
     "data": {
      "text/plain": [
       "5-element Vector{Any}:\n",
       " 1\n",
       " 1\n",
       " 1\n",
       " 1\n",
       " 1"
      ]
     },
     "metadata": {},
     "output_type": "display_data"
    }
   ],
   "source": [
    "append!(a[\"b\"],1)"
   ]
  },
  {
   "cell_type": "code",
   "execution_count": 53,
   "metadata": {},
   "outputs": [
    {
     "data": {
      "text/plain": [
       "Dict{String, Vector{Any}} with 1 entry:\n",
       "  \"b\" => [1, 1, 1, 1, 1]"
      ]
     },
     "metadata": {},
     "output_type": "display_data"
    }
   ],
   "source": [
    "a"
   ]
  },
  {
   "cell_type": "code",
   "execution_count": null,
   "metadata": {},
   "outputs": [],
   "source": []
  }
 ],
 "metadata": {
  "kernelspec": {
   "display_name": "Julia 1.8.5",
   "language": "julia",
   "name": "julia-1.8"
  },
  "language_info": {
   "file_extension": ".jl",
   "mimetype": "application/julia",
   "name": "julia",
   "version": "1.8.5"
  },
  "orig_nbformat": 4
 },
 "nbformat": 4,
 "nbformat_minor": 2
}
