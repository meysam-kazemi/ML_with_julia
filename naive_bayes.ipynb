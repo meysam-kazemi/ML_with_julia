{
 "cells": [
  {
   "cell_type": "code",
   "execution_count": 2,
   "metadata": {},
   "outputs": [],
   "source": [
    "import Statistics"
   ]
  },
  {
   "cell_type": "code",
   "execution_count": 3,
   "metadata": {},
   "outputs": [
    {
     "data": {
      "text/plain": [
       "100×5 Matrix{Float64}:\n",
       " 0.684477   0.108546   0.0236157  0.415899   1.0\n",
       " 0.213789   0.691746   0.409566   0.141439   1.0\n",
       " 0.556799   0.0159538  0.686521   0.0218984  1.0\n",
       " 0.625068   0.771359   0.734991   0.18648    1.0\n",
       " 0.617335   0.121375   0.540097   0.36108    0.0\n",
       " 0.327347   0.470746   0.800916   0.727161   0.0\n",
       " 0.884767   0.388244   0.8836     0.298815   0.0\n",
       " 0.531147   0.134145   0.616349   0.363749   0.0\n",
       " 0.905983   0.306906   0.286375   0.0801698  1.0\n",
       " 0.635022   0.264015   0.0682579  0.742054   1.0\n",
       " ⋮                                           \n",
       " 0.0421674  0.190519   0.157301   0.750437   0.0\n",
       " 0.854066   0.04333    0.0118001  0.674143   0.0\n",
       " 0.595349   0.204488   0.60241    0.809816   0.0\n",
       " 0.335507   0.561306   0.550985   0.327218   0.0\n",
       " 0.955865   0.898329   0.519915   0.386675   0.0\n",
       " 0.510536   0.0259978  0.637459   0.671834   0.0\n",
       " 0.898151   0.83497    0.363083   0.112629   1.0\n",
       " 0.463135   0.3657     0.273836   0.49121    0.0\n",
       " 0.619466   0.240415   0.974157   0.968484   0.0"
      ]
     },
     "metadata": {},
     "output_type": "display_data"
    }
   ],
   "source": [
    "# Generate data\n",
    "features = rand(100,4)\n",
    "target = randn(100)\n",
    "target .= target .>= 0 \n",
    "data = [features  target]"
   ]
  },
  {
   "cell_type": "code",
   "execution_count": 4,
   "metadata": {},
   "outputs": [
    {
     "data": {
      "text/plain": [
       "(100, 4)"
      ]
     },
     "metadata": {},
     "output_type": "display_data"
    }
   ],
   "source": [
    "size(features)"
   ]
  },
  {
   "cell_type": "code",
   "execution_count": 5,
   "metadata": {},
   "outputs": [
    {
     "data": {
      "text/plain": [
       "seprate_classes (generic function with 1 method)"
      ]
     },
     "metadata": {},
     "output_type": "display_data"
    }
   ],
   "source": [
    "function seprate_classes(x,y) # Separate the dataset into a subset of data for each class\n",
    "    seprated_classes = Dict()\n",
    "    for i in 1:size(x,1)\n",
    "        feature = x[i,:]\n",
    "        class_name = y[i]\n",
    "        if class_name ∉ keys(seprated_classes) \n",
    "            seprated_classes[class_name] = []\n",
    "        end\n",
    "        append!(seprated_classes[class_name],feature)\n",
    "    end\n",
    "    return seprated_classes\n",
    "end"
   ]
  },
  {
   "cell_type": "code",
   "execution_count": 6,
   "metadata": {},
   "outputs": [
    {
     "data": {
      "text/plain": [
       "Dict{Any, Any} with 2 entries:\n",
       "  0.0 => Any[0.617335, 0.121375, 0.540097, 0.36108, 0.327347, 0.470746, 0.80091…\n",
       "  1.0 => Any[0.684477, 0.108546, 0.0236157, 0.415899, 0.213789, 0.691746, 0.409…"
      ]
     },
     "metadata": {},
     "output_type": "display_data"
    }
   ],
   "source": [
    "classes = seprate_classes(features,target)"
   ]
  },
  {
   "cell_type": "code",
   "execution_count": 131,
   "metadata": {},
   "outputs": [
    {
     "data": {
      "text/plain": [
       "std_mean (generic function with 1 method)"
      ]
     },
     "metadata": {},
     "output_type": "display_data"
    }
   ],
   "source": [
    "function std_mean(x) # Calculates standard deviation and mean of features.\n",
    "    stat = Dict(\"std\"=>[],\"mean\"=>[])\n",
    "    for feature in eachcol(x)\n",
    "        append!(stat[\"std\"],Statistics.std(feature))\n",
    "        append!(stat[\"mean\"],Statistics.mean(feature))\n",
    "    end\n",
    "    stdmean = []\n",
    "    for key in keys(stat)\n",
    "        for val in stat[key]\n",
    "            append!(stdmean,key=>val)\n",
    "        end\n",
    "    end\n",
    "    return stdmean\n",
    "end"
   ]
  },
  {
   "cell_type": "code",
   "execution_count": 132,
   "metadata": {},
   "outputs": [
    {
     "data": {
      "text/plain": [
       "16-element Vector{Any}:\n",
       "  \"mean\"\n",
       " 0.5062984421560289\n",
       "  \"mean\"\n",
       " 0.51117294277009\n",
       "  \"mean\"\n",
       " 0.4897895220153616\n",
       "  \"mean\"\n",
       " 0.5226172595964266\n",
       "  \"std\"\n",
       " 0.2932996732138587\n",
       "  \"std\"\n",
       " 0.30095669921659496\n",
       "  \"std\"\n",
       " 0.27897111638551175\n",
       "  \"std\"\n",
       " 0.2889981035259152"
      ]
     },
     "metadata": {},
     "output_type": "display_data"
    }
   ],
   "source": [
    "stdmean = std_mean(features)"
   ]
  },
  {
   "cell_type": "code",
   "execution_count": 133,
   "metadata": {},
   "outputs": [
    {
     "data": {
      "text/plain": [
       "Vector{Any}\u001b[90m (alias for \u001b[39m\u001b[90mArray{Any, 1}\u001b[39m\u001b[90m)\u001b[39m"
      ]
     },
     "metadata": {},
     "output_type": "display_data"
    }
   ],
   "source": [
    "stdmean |> typeof"
   ]
  },
  {
   "cell_type": "code",
   "execution_count": 135,
   "metadata": {},
   "outputs": [
    {
     "data": {
      "text/plain": [
       "16"
      ]
     },
     "metadata": {},
     "output_type": "display_data"
    }
   ],
   "source": [
    "length(stdmean)"
   ]
  },
  {
   "cell_type": "code",
   "execution_count": 136,
   "metadata": {},
   "outputs": [
    {
     "data": {
      "text/plain": [
       "distribution (generic function with 1 method)"
      ]
     },
     "metadata": {},
     "output_type": "display_data"
    }
   ],
   "source": [
    "function distribution(x,std,mean) # Gaussian Distribution Function\n",
    "    exponent = exp.(-((x .- mean).^2 ./ (2 .* std .^ 2)))\n",
    "    return exponent ./ (sqrt(2*π)*std)\n",
    "end"
   ]
  },
  {
   "cell_type": "code",
   "execution_count": 138,
   "metadata": {},
   "outputs": [
    {
     "data": {
      "text/plain": [
       "fit (generic function with 1 method)"
      ]
     },
     "metadata": {},
     "output_type": "display_data"
    }
   ],
   "source": [
    "function fit(x,y)\n",
    "    classes = seprate_classes(x,y)\n",
    "    class_summary = Dict()\n",
    "    for item in classes\n",
    "        class_name , feature_val = item.first , item.second\n",
    "        class_summary[class_name] = Dict(\"prior_proba\"=>length(feature_val)/size(x,1),\n",
    "                                        \"summary\"=>[i for i in std_mean(feature_val)])\n",
    "    end\n",
    "    return class_summary        \n",
    "end"
   ]
  },
  {
   "cell_type": "code",
   "execution_count": 139,
   "metadata": {},
   "outputs": [
    {
     "data": {
      "text/plain": [
       "Dict{Any, Any} with 2 entries:\n",
       "  0.0 => Dict{String, Any}(\"summary\"=>Any[\"mean\", 0.496085, \"std\", 0.29588], \"p…\n",
       "  1.0 => Dict{String, Any}(\"summary\"=>Any[\"mean\", 0.518854, \"std\", 0.283898], \"…"
      ]
     },
     "metadata": {},
     "output_type": "display_data"
    }
   ],
   "source": [
    "class_summary = fit(features,target)"
   ]
  },
  {
   "cell_type": "code",
   "execution_count": 140,
   "metadata": {},
   "outputs": [
    {
     "data": {
      "text/plain": [
       "predict (generic function with 1 method)"
      ]
     },
     "metadata": {},
     "output_type": "display_data"
    }
   ],
   "source": [
    "function predict(x,class_summary)\n",
    "    MAPs = []\n",
    "    for row in eachrow(x)\n",
    "        joint_proba = Dict()\n",
    "        for item in class_summary\n",
    "            class_name , features = item.first,item.second\n",
    "            total_features = length(features[\"summary\"])\n",
    "            likelihood =1\n",
    "\n",
    "            for idx in 1:total_features\n",
    "                feature = row[idx]\n",
    "                mean_ = features[\"summary\"][idx][\"mean\"]\n",
    "                std_ = features[\"summary\"][idx][\"std\"]\n",
    "                normal_proba = distribution(feature,std_,mean_)\n",
    "                likelihood *= normal_proba\n",
    "            end\n",
    "            prior_proba = features[\"prior_proba\"]\n",
    "            joint_proba[class_name] = prior_proba * likelihood\n",
    "        end\n",
    "        MAP = max((x,y)->joint_proba[x]>joint_proba[y] ? x : y,keys(joint_proba)) # ?\n",
    "        append!(MAPs,MAP)\n",
    "    end\n",
    "    return MAPs\n",
    "end"
   ]
  },
  {
   "cell_type": "code",
   "execution_count": 141,
   "metadata": {},
   "outputs": [
    {
     "ename": "MethodError",
     "evalue": "MethodError: no method matching getindex(::String, ::String)\nClosest candidates are:\n  getindex(::AbstractString, !Matched::Colon) at strings/basic.jl:189\n  getindex(::String, !Matched::Int64) at strings/string.jl:226\n  getindex(::AbstractString, !Matched::Integer) at strings/basic.jl:184\n  ...",
     "output_type": "error",
     "traceback": [
      "MethodError: no method matching getindex(::String, ::String)\n",
      "Closest candidates are:\n",
      "  getindex(::AbstractString, !Matched::Colon) at strings/basic.jl:189\n",
      "  getindex(::String, !Matched::Int64) at strings/string.jl:226\n",
      "  getindex(::AbstractString, !Matched::Integer) at strings/basic.jl:184\n",
      "  ...\n",
      "\n",
      "Stacktrace:\n",
      " [1] predict(x::Matrix{Float64}, class_summary::Dict{Any, Any})\n",
      "   @ Main c:\\0.Files\\Code\\JULIA\\ML_with_julia\\naive_bayes.ipynb:12\n",
      " [2] top-level scope\n",
      "   @ c:\\0.Files\\Code\\JULIA\\ML_with_julia\\naive_bayes.ipynb:1"
     ]
    }
   ],
   "source": [
    "predict(features,class_summary)"
   ]
  },
  {
   "cell_type": "code",
   "execution_count": 142,
   "metadata": {},
   "outputs": [
    {
     "data": {
      "text/plain": [
       "4-element Vector{Any}:\n",
       "  \"mean\"\n",
       " 0.49608464989372103\n",
       "  \"std\"\n",
       " 0.2958795713470843"
      ]
     },
     "metadata": {},
     "output_type": "display_data"
    }
   ],
   "source": [
    "class_summary[0.0][\"summary\"]"
   ]
  },
  {
   "cell_type": "code",
   "execution_count": 109,
   "metadata": {},
   "outputs": [
    {
     "data": {
      "text/plain": [
       "Dict{String, Vector{Int64}} with 2 entries:\n",
       "  \"wwww\" => [6, 7, 8, 9]\n",
       "  \"qqqq\" => [1, 2, 3, 4]"
      ]
     },
     "metadata": {},
     "output_type": "display_data"
    }
   ],
   "source": [
    "a = Dict(\"qqqq\"=>[1,2,3,4,],\"wwww\"=>[6,7,8,9])"
   ]
  },
  {
   "cell_type": "code",
   "execution_count": 105,
   "metadata": {},
   "outputs": [
    {
     "data": {
      "text/plain": [
       "2-element Vector{Pair{String, Int64}}:\n",
       " \"wwww\" => 6\n",
       " \"qqqq\" => 2"
      ]
     },
     "metadata": {},
     "output_type": "display_data"
    }
   ],
   "source": [
    "[item.first=>item.second[i] for (i,item) in enumerate(a)]"
   ]
  },
  {
   "cell_type": "code",
   "execution_count": 119,
   "metadata": {},
   "outputs": [
    {
     "name": "stdout",
     "output_type": "stream",
     "text": [
      "\"wwww\" => 6\n",
      "\"wwww\" => 7\n",
      "\"wwww\" => 8\n",
      "\"wwww\" => 9\n",
      "\"qqqq\" => 1\n",
      "\"qqqq\" => 2\n",
      "\"qqqq\" => 3\n",
      "\"qqqq\" => 4\n"
     ]
    }
   ],
   "source": [
    "for key in keys(a)\n",
    "    for (i,item) in enumerate(a[key])\n",
    "        println(key=>item)\n",
    "    end\n",
    "end"
   ]
  },
  {
   "cell_type": "code",
   "execution_count": 124,
   "metadata": {},
   "outputs": [
    {
     "data": {
      "text/plain": [
       "5×5 Matrix{Pair{Int64, Int64}}:\n",
       " 1=>1  1=>2  1=>3  1=>4  1=>5\n",
       " 2=>1  2=>2  2=>3  2=>4  2=>5\n",
       " 3=>1  3=>2  3=>3  3=>4  3=>5\n",
       " 4=>1  4=>2  4=>3  4=>4  4=>5\n",
       " 5=>1  5=>2  5=>3  5=>4  5=>5"
      ]
     },
     "metadata": {},
     "output_type": "display_data"
    }
   ],
   "source": [
    "[i=>j for i in 1:5,j in 1:5]"
   ]
  }
 ],
 "metadata": {
  "kernelspec": {
   "display_name": "Julia 1.8.5",
   "language": "julia",
   "name": "julia-1.8"
  },
  "language_info": {
   "file_extension": ".jl",
   "mimetype": "application/julia",
   "name": "julia",
   "version": "1.8.5"
  },
  "orig_nbformat": 4
 },
 "nbformat": 4,
 "nbformat_minor": 2
}
