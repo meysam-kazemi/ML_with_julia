{
 "cells": [
  {
   "cell_type": "code",
   "execution_count": 30,
   "metadata": {},
   "outputs": [],
   "source": [
    "import Statistics"
   ]
  },
  {
   "cell_type": "code",
   "execution_count": 31,
   "metadata": {},
   "outputs": [
    {
     "data": {
      "text/plain": [
       "100×5 Matrix{Float64}:\n",
       " 0.520323   0.783415  0.765647   0.366589   1.0\n",
       " 0.137864   0.852474  0.907693   0.790964   1.0\n",
       " 0.304566   0.417679  0.660915   0.253835   1.0\n",
       " 0.81057    0.14587   0.769866   0.563403   1.0\n",
       " 0.857055   0.677896  0.74095    0.255435   0.0\n",
       " 0.339275   0.600864  0.0254507  0.554227   1.0\n",
       " 0.448123   0.66026   0.144217   0.925327   0.0\n",
       " 0.442736   0.312229  0.945634   0.910304   1.0\n",
       " 0.271838   0.69699   0.968364   0.0680698  1.0\n",
       " 0.483975   0.481135  0.220821   0.0126298  1.0\n",
       " ⋮                                          \n",
       " 0.21946    0.963494  0.813374   0.0479463  0.0\n",
       " 0.269036   0.553666  0.0737573  0.238573   1.0\n",
       " 0.742099   0.674566  0.201889   0.339827   1.0\n",
       " 0.0341961  0.648409  0.0428404  0.623081   1.0\n",
       " 0.576743   0.819684  0.0988861  0.89939    1.0\n",
       " 0.828739   0.307097  0.836367   0.134796   1.0\n",
       " 0.708958   0.838908  0.312048   0.984244   1.0\n",
       " 0.549265   0.437865  0.884353   0.0994664  1.0\n",
       " 0.86317    0.409103  0.0963636  0.412207   1.0"
      ]
     },
     "metadata": {},
     "output_type": "display_data"
    }
   ],
   "source": [
    "# Generate data\n",
    "features = rand(100,4)\n",
    "target = randn(100)\n",
    "target .= target .>= 0 \n",
    "data = [features  target]"
   ]
  },
  {
   "cell_type": "code",
   "execution_count": 32,
   "metadata": {},
   "outputs": [
    {
     "data": {
      "text/plain": [
       "(100, 4)"
      ]
     },
     "metadata": {},
     "output_type": "display_data"
    }
   ],
   "source": [
    "size(features)"
   ]
  },
  {
   "cell_type": "code",
   "execution_count": 51,
   "metadata": {},
   "outputs": [
    {
     "data": {
      "text/plain": [
       "4×1 Matrix{Float64}:\n",
       " 0.5203225808882386\n",
       " 0.7834150105647646\n",
       " 0.7656472446859207\n",
       " 0.36658895966866933"
      ]
     },
     "metadata": {},
     "output_type": "display_data"
    }
   ],
   "source": [
    "features[1,:,:]"
   ]
  },
  {
   "cell_type": "code",
   "execution_count": 58,
   "metadata": {},
   "outputs": [
    {
     "data": {
      "text/plain": [
       "seprate_classes (generic function with 1 method)"
      ]
     },
     "metadata": {},
     "output_type": "display_data"
    }
   ],
   "source": [
    "function seprate_classes(x,y) # Separate the dataset into a subset of data for each class\n",
    "    seprated_classes = Dict()\n",
    "    for i in 1:size(x,1)\n",
    "        feature = x[i,:,:]' # size(x[i,:])->(4,)  -  size(x[i,:,:])->(4,1)  - size(x[i,:,:])->(1,4)\n",
    "        class_name = y[i]\n",
    "        if class_name ∉ keys(seprated_classes) \n",
    "            seprated_classes[class_name] = Array{Float64}(undef,0,4) # empty array : size -> 0,4\n",
    "        end\n",
    "        seprated_classes[class_name] = [seprated_classes[class_name];feature];\n",
    "    end\n",
    "    \n",
    "    return seprated_classes\n",
    "end"
   ]
  },
  {
   "cell_type": "code",
   "execution_count": 59,
   "metadata": {},
   "outputs": [
    {
     "data": {
      "text/plain": [
       "55×4 Matrix{Float64}:\n",
       " 0.520323   0.783415  0.765647   0.366589\n",
       " 0.137864   0.852474  0.907693   0.790964\n",
       " 0.304566   0.417679  0.660915   0.253835\n",
       " 0.81057    0.14587   0.769866   0.563403\n",
       " 0.339275   0.600864  0.0254507  0.554227\n",
       " 0.442736   0.312229  0.945634   0.910304\n",
       " 0.271838   0.69699   0.968364   0.0680698\n",
       " 0.483975   0.481135  0.220821   0.0126298\n",
       " 0.667458   0.822965  0.919274   0.0410578\n",
       " 0.261841   0.827234  0.709329   0.82555\n",
       " ⋮                               \n",
       " 0.159294   0.377098  0.333341   0.471165\n",
       " 0.269036   0.553666  0.0737573  0.238573\n",
       " 0.742099   0.674566  0.201889   0.339827\n",
       " 0.0341961  0.648409  0.0428404  0.623081\n",
       " 0.576743   0.819684  0.0988861  0.89939\n",
       " 0.828739   0.307097  0.836367   0.134796\n",
       " 0.708958   0.838908  0.312048   0.984244\n",
       " 0.549265   0.437865  0.884353   0.0994664\n",
       " 0.86317    0.409103  0.0963636  0.412207"
      ]
     },
     "metadata": {},
     "output_type": "display_data"
    }
   ],
   "source": [
    "classes = seprate_classes(features,target)\n",
    "classes[1]"
   ]
  },
  {
   "cell_type": "code",
   "execution_count": 60,
   "metadata": {},
   "outputs": [
    {
     "data": {
      "text/plain": [
       "std_mean (generic function with 1 method)"
      ]
     },
     "metadata": {},
     "output_type": "display_data"
    }
   ],
   "source": [
    "function std_mean(x) # Calculates standard deviation and mean of features.\n",
    "    std = []\n",
    "    mean = []\n",
    "    for feature in eachcol(x)\n",
    "        append!(std,Statistics.std(feature))\n",
    "        append!(mean,Statistics.mean(feature))\n",
    "    end\n",
    "    return std , mean\n",
    "end"
   ]
  },
  {
   "cell_type": "code",
   "execution_count": 61,
   "metadata": {},
   "outputs": [
    {
     "data": {
      "text/plain": [
       "(Any[0.2719639857228294, 0.2863302820857365, 0.3102293680446004, 0.2913150791739614], Any[0.511576843531682, 0.523640073547075, 0.47407562294629785, 0.46182071559619087])"
      ]
     },
     "metadata": {},
     "output_type": "display_data"
    }
   ],
   "source": [
    "std,mean = std_mean(features)"
   ]
  },
  {
   "cell_type": "code",
   "execution_count": 62,
   "metadata": {},
   "outputs": [
    {
     "data": {
      "text/plain": [
       "(100, 4)"
      ]
     },
     "metadata": {},
     "output_type": "display_data"
    }
   ],
   "source": [
    "features |> size"
   ]
  },
  {
   "cell_type": "code",
   "execution_count": 63,
   "metadata": {},
   "outputs": [
    {
     "name": "stdout",
     "output_type": "stream",
     "text": [
      "Any[0.2719639857228294, 0.2863302820857365, 0.3102293680446004, 0.2913150791739614]\n",
      "Any[0.511576843531682, 0.523640073547075, 0.47407562294629785, 0.46182071559619087]\n"
     ]
    },
    {
     "data": {
      "text/plain": [
       "2-element Vector{Nothing}:\n",
       " nothing\n",
       " nothing"
      ]
     },
     "metadata": {},
     "output_type": "display_data"
    }
   ],
   "source": [
    "[println(i) for i in std_mean(features)]"
   ]
  },
  {
   "cell_type": "code",
   "execution_count": 64,
   "metadata": {},
   "outputs": [
    {
     "data": {
      "text/plain": [
       "distribution (generic function with 1 method)"
      ]
     },
     "metadata": {},
     "output_type": "display_data"
    }
   ],
   "source": [
    "function distribution(x,std,mean) # Gaussian Distribution Function\n",
    "    exponent = exp.(-((x .- mean).^2 ./ (2 .* std .^ 2)))\n",
    "    return exponent ./ (sqrt(2*π)*std)\n",
    "end"
   ]
  },
  {
   "cell_type": "code",
   "execution_count": 65,
   "metadata": {},
   "outputs": [
    {
     "data": {
      "text/plain": [
       "fit (generic function with 1 method)"
      ]
     },
     "metadata": {},
     "output_type": "display_data"
    }
   ],
   "source": [
    "function fit(x,y)\n",
    "    classes = seprate_classes(x,y)\n",
    "    class_summary = Dict()\n",
    "    for item in classes\n",
    "        @show class_name , feature_val = item.first , item.second\n",
    "        std,mean = std_mean(feature_val);\n",
    "        summary = Dict(\"mean\"=>mean,\"std\"=>std);\n",
    "        class_summary[class_name] = Dict(\"prior_proba\"=>length(feature_val)/size(x,1),\n",
    "                                        \"summary\"=>summary)\n",
    "    end\n",
    "    return class_summary        \n",
    "end"
   ]
  },
  {
   "cell_type": "code",
   "execution_count": 66,
   "metadata": {},
   "outputs": [
    {
     "name": "stdout",
     "output_type": "stream",
     "text": [
      "(class_name, feature_val) = (item.first, item.second) = (0.0, [0.8570551287801391 0.6778964677480335 0.7409498039601308 0.2554346593782236; 0.44812286702384563 0.6602602055385257 0.14421656397505445 0.9253267438591699; 0.1519267236441143 0.3850753402855487 0.5254347530965658 0.2532498956409872; 0.17418839479460224 0.4681996056304949 0.2774808115779741 0.8664656036357967; 0.9314981127588142 0.32617658295140384 0.6925370510473629 0.30001870295381095; 0.35297995183585507 0.39162793228740655 0.5123108530480528 0.23694705066110233; 0.9769381879762438 0.7790955165556751 0.8748158007760631 0.1418877840352608; 0.402296516080468 0.0603292314428977 0.08902710008791925 0.6020785102311731; 0.6463768321969603 0.5746099910123464 0.8783518518230125 0.11187624703301724; 0.7627648242422618 0.5727180108135167 0.7286957421659376 0.4341943840267919; 0.7995829248750348 0.9247999124853122 0.23301383198161385 0.13726048797083756; 0.30384002340326155 0.18866429073061453 0.3345878187401131 0.46619809450678074; 0.8556932493764732 0.7788783808586865 0.3468607785498322 0.9616663279606111; 0.6169865716972296 0.043713180060781176 0.6059282456921584 0.7590977870369628; 0.6155968135464452 0.14788608171543716 0.5077921526596869 0.4355760577463954; 0.9802163318241418 0.4874936087919082 0.3459649285085912 0.2680750525465847; 0.30351283842355126 0.4807829496817402 0.055188098080248715 0.6242161161022766; 0.5689283334675534 0.0744783578993754 0.07679066801289336 0.11474030084875264; 0.35014796479895516 0.5006876277494632 0.10703193321850268 0.16110660595034132; 0.19862921674324896 0.601504839277028 0.8182293985604926 0.19753645097159866; 0.8891317291689641 0.33872776626733603 0.7327286443961741 0.22616273715437818; 0.30798666783142614 0.13648578705542513 0.025453362983556715 0.9638191381342955; 0.5792921393921188 0.2866218424958049 0.027769362303837863 0.7087401417292533; 0.5938417246258569 0.022154500243229514 0.7423162049428607 0.004691905660892615; 0.561674288925042 0.017242635126464734 0.7757785119777177 0.9192825086587573; 0.3533789135214278 0.8472388863934517 0.7319969735395482 0.660772993526728; 0.29978333261843493 0.0861925628429474 0.4236970604281567 0.8372941149631603; 0.7285194710904979 0.8147407101716698 0.21916741352920255 0.5927469850865499; 0.5989890945012228 0.8244239644449994 0.05511011843648139 0.1370959514489123; 0.7952703889898894 0.596177688221812 0.09806448680476365 0.5177793506880877; 0.32362510811904144 0.5831651345241334 0.6572117949111869 0.6160173923677786; 0.563385821474213 0.8014689066307632 0.2242597456761496 0.20510503086201792; 0.24596194894981227 0.07303698845655815 0.6727858867036246 0.021924295584551112; 0.23821315849499491 0.7125090257383867 0.49432058783730104 0.4397235261866488; 0.8166382375717189 0.2984312778686936 0.46128360825661463 0.03888772757919601; 0.8517328983369462 0.5444643374835901 0.5877490647218436 0.877220990547668; 0.35325615063769467 0.3543558273621409 0.3884523579616115 0.7673204562281898; 0.09189330889087122 0.1891313657651592 0.9512617412995344 0.2863758882648325; 0.20132359039502667 0.9903126589405047 0.22388564281761725 0.4892424132769214; 0.6085789152067526 0.5659144377016818 0.4349664389615381 0.5707120781455794; 0.11340919533764082 0.5701000033443623 0.3606544249575655 0.02793776982109364; 0.35941008541955366 0.9967171528858827 0.679715668496202 0.3801323119083664; 0.8450553608917747 0.690681344421292 0.2728607447530853 0.2732303909080307; 0.3290520217628048 0.10406403871120751 0.7004691894939279 0.8233387830249033; 0.2194596101280719 0.9634941200557803 0.813374295662677 0.04794629628580982])\n",
      "(class_name, feature_val) = (item.first, item.second) = (1.0, [0.5203225808882386 0.7834150105647646 0.7656472446859207 0.36658895966866933; 0.13786412974203877 0.8524739061212411 0.9076930797701788 0.7909636843230934; 0.3045662096565537 0.4176787254111669 0.6609152210806611 0.2538349447730964; 0.8105702254042536 0.14586958232809577 0.7698662635217182 0.5634028469634474; 0.33927523699124906 0.6008642417037553 0.025450731416039263 0.5542271547330168; 0.4427359686101865 0.3122292031666847 0.9456336583085148 0.9103040466905519; 0.2718379270729311 0.6969898959064694 0.9683643985382893 0.06806979563238769; 0.4839748804086439 0.4811346772470366 0.22082096039472443 0.012629799855518598; 0.6674579620895726 0.822965344854984 0.9192743969221692 0.04105783629449855; 0.2618412476960138 0.827233514760102 0.7093288615093111 0.8255501693795703; 0.6581794237556386 0.6514414095834352 0.2371015748156241 0.6847280301899112; 0.5574263599048539 0.9248683668559927 0.4863968745415226 0.6431927021335262; 0.44349103939072343 0.06922068160915551 0.30613207200349735 0.2816929085923616; 0.4037314115830095 0.5611021912486156 0.011729191678255368 0.1889401275147583; 0.3787283439219299 0.8495069116339907 0.895507383657315 0.1754979856369796; 0.345006827386906 0.3849827961787954 0.20834573374427667 0.6864949227335683; 0.15871190552086578 0.9701044651280737 0.50652961784078 0.8877866025282013; 0.3769006524495804 0.6729418921068064 0.17837302755995166 0.9171769208438758; 0.692514432640874 0.0008970795902465412 0.9015346622176454 0.4234052608841742; 0.932574114267458 0.9206708552945174 0.08312456780622623 0.48543626079430147; 0.7015237513510737 0.5519830011625266 0.08374164704651554 0.2890413985938973; 0.7218979802451728 0.9678574308598074 0.889344045754998 0.1208975080000716; 0.43724152779750125 0.5831256107046948 0.5228876721676494 0.9792136572052215; 0.19072377004668217 0.2888155378786005 0.015968214252705337 0.4172710463047702; 0.7542077321131724 0.20953649507907435 0.19304606998029916 0.026217670190783582; 0.9661587004103794 0.8815514253156707 0.5182894399017925 0.36577275082732064; 0.9130628183147508 0.7513078266261399 0.8134473643058326 0.07159926128133132; 0.9620436761011802 0.06119267933978312 0.8477874392974942 0.1391106338493593; 0.07369973526272189 0.051084072938924585 0.9702246375297762 0.28482891117714915; 0.3539546970027265 0.03878947365665475 0.7115081171994887 0.6127455628627357; 0.14854802902534425 0.2281370378509766 0.41516978634117563 0.1561085942645637; 0.8268736756571506 0.5186640277676791 0.08059609369137966 0.49433671693032355; 0.46147512852192096 0.7869423221720119 0.9225494657047842 0.5665015114160548; 0.3393307186294475 0.39452145580642806 0.4052508826986626 0.37014254072694364; 0.34096762400910285 0.8052243701732787 0.8823064215821288 0.548182088037477; 0.8812703901870346 0.9226834329743646 0.33131211671395044 0.4484234772616056; 0.8127911164266328 0.2446817909930291 0.537179052751276 0.8607636078702864; 0.09762587560072555 0.3881166261716279 0.3742186105123644 0.42567206610526775; 0.2555616648621244 0.955671265541202 0.47394942798146145 0.320165344333344; 0.9141426837089127 0.8088993705998773 0.42391273091505455 0.9487173391388194; 0.5787362075372324 0.6925333230354617 0.7262312613371883 0.6682495658021437; 0.7927376343589284 0.3957232799773903 0.9144384911715202 0.6366580770133443; 0.3725031500126278 0.4547794974174989 0.9819950698416484 0.48788931499540633; 0.08002462820987455 0.4578332957143467 0.022820863565800042 0.9322376540942977; 0.09648765752508859 0.5382790623140938 0.07055831114077182 0.5858933519506746; 0.9987378811421237 0.8403560935573242 0.04067238476864499 0.7752464853488246; 0.15929408198245376 0.37709772021578125 0.3333406846463458 0.471165082191487; 0.26903552314151125 0.5536655458717481 0.07375730299858152 0.23857333462381325; 0.7420993946446074 0.6745657491778748 0.20188940032161462 0.3398269638165128; 0.034196107255148545 0.6484091016747097 0.04284041747003209 0.6230813117840672; 0.5767430964657417 0.8196844231395867 0.09888612538467456 0.8993896300514628; 0.8287387691423316 0.3070966724420854 0.8363672721785693 0.1347963860912721; 0.7089575343414648 0.838908325588115 0.312047600035693 0.9842442767789021; 0.5492652067154364 0.4378652638056614 0.8843532633389826 0.09946641166124859; 0.8631703362673453 0.4091029192000687 0.09636357067332224 0.4122070257337185])\n"
     ]
    },
    {
     "data": {
      "text/plain": [
       "Dict{Any, Any} with 2 entries:\n",
       "  0.0 => Dict{String, Any}(\"summary\"=>Dict{String, Vector{Any}}(\"mean\"=>[0.5148…\n",
       "  1.0 => Dict{String, Any}(\"summary\"=>Dict{String, Vector{Any}}(\"mean\"=>[0.5089…"
      ]
     },
     "metadata": {},
     "output_type": "display_data"
    }
   ],
   "source": [
    "class_summary = fit(features,target)"
   ]
  },
  {
   "cell_type": "code",
   "execution_count": 67,
   "metadata": {},
   "outputs": [
    {
     "data": {
      "text/plain": [
       "Dict{String, Vector{Any}} with 2 entries:\n",
       "  \"mean\" => [0.508937, 0.560569, 0.486491, 0.481739]\n",
       "  \"std\"  => [0.28134, 0.276731, 0.338989, 0.285671]"
      ]
     },
     "metadata": {},
     "output_type": "display_data"
    }
   ],
   "source": [
    "class_summary[1][\"summary\"]"
   ]
  },
  {
   "cell_type": "code",
   "execution_count": 68,
   "metadata": {},
   "outputs": [
    {
     "data": {
      "text/plain": [
       "(Any[0.26317113295103395, 0.29443790134713343, 0.27401937849520475, 0.29947892402177906], Any[0.5148032215504668, 0.4785051350370994, 0.4589009226092219, 0.43747675646975726])"
      ]
     },
     "metadata": {},
     "output_type": "display_data"
    }
   ],
   "source": [
    "classes = seprate_classes(features,target)\n",
    "std_mean(classes[0])\n",
    "# [i for i in std_mean(class)]"
   ]
  },
  {
   "cell_type": "code",
   "execution_count": 69,
   "metadata": {},
   "outputs": [
    {
     "data": {
      "text/plain": [
       "predict (generic function with 1 method)"
      ]
     },
     "metadata": {},
     "output_type": "display_data"
    }
   ],
   "source": [
    "function predict(x,class_summary)\n",
    "    MAPs = []\n",
    "    for row in eachrow(x)\n",
    "        joint_proba = Dict()\n",
    "        for item in class_summary\n",
    "            class_name , features = item.first,item.second\n",
    "            total_features = length(features[\"summary\"])\n",
    "            likelihood =1\n",
    "\n",
    "            for idx in 1:total_features\n",
    "                feature = row[idx]\n",
    "                mean_ = features[\"summary\"][idx][\"mean\"]\n",
    "                std_ = features[\"summary\"][idx][\"std\"]\n",
    "                normal_proba = distribution(feature,std_,mean_)\n",
    "                likelihood *= normal_proba\n",
    "            end\n",
    "            prior_proba = features[\"prior_proba\"]\n",
    "            joint_proba[class_name] = prior_proba * likelihood\n",
    "        end\n",
    "        MAP = max((x,y)->joint_proba[x]>joint_proba[y] ? x : y,keys(joint_proba)) # ?\n",
    "        append!(MAPs,MAP)\n",
    "    end\n",
    "    return MAPs\n",
    "end"
   ]
  },
  {
   "cell_type": "code",
   "execution_count": 70,
   "metadata": {},
   "outputs": [
    {
     "ename": "KeyError",
     "evalue": "KeyError: key 1 not found",
     "output_type": "error",
     "traceback": [
      "KeyError: key 1 not found\n",
      "\n",
      "Stacktrace:\n",
      " [1] getindex(h::Dict{String, Vector{Any}}, key::Int64)\n",
      "   @ Base .\\dict.jl:498\n",
      " [2] predict(x::Matrix{Float64}, class_summary::Dict{Any, Any})\n",
      "   @ Main c:\\0.Files\\Code\\JULIA\\ML_with_julia\\naive_bayes.ipynb:12\n",
      " [3] top-level scope\n",
      "   @ c:\\0.Files\\Code\\JULIA\\ML_with_julia\\naive_bayes.ipynb:1"
     ]
    }
   ],
   "source": [
    "maps = predict(features,class_summary)"
   ]
  },
  {
   "cell_type": "code",
   "execution_count": 71,
   "metadata": {},
   "outputs": [
    {
     "name": "stdout",
     "output_type": "stream",
     "text": [
      "Dict{String, Any}(\"summary\" => Dict{String, Vector{Any}}(\"mean\" => [0.5148032215504668, 0.4785051350370994, 0.4589009226092219, 0.43747675646975726], \"std\" => [0.26317113295103395, 0.29443790134713343, 0.27401937849520475, 0.29947892402177906]), \"prior_proba\" => 1.8)\n",
      "doroste\n",
      "feature = row[idx] = 0.5203225808882386\n"
     ]
    },
    {
     "ename": "KeyError",
     "evalue": "KeyError: key 1 not found",
     "output_type": "error",
     "traceback": [
      "KeyError: key 1 not found\n",
      "\n",
      "Stacktrace:\n",
      " [1] getindex(h::Dict{String, Vector{Any}}, key::Int64)\n",
      "   @ Base .\\dict.jl:498\n",
      " [2] top-level scope\n",
      "   @ c:\\0.Files\\Code\\JULIA\\ML_with_julia\\naive_bayes.ipynb:13"
     ]
    }
   ],
   "source": [
    "maps = []\n",
    "for row in eachrow(features)\n",
    "    for item in class_summary\n",
    "        class_name , features_val = item.first,item.second\n",
    "        # println(class_name)\n",
    "        println(features_val)\n",
    "        total_features = length(features_val[\"summary\"])\n",
    "        likelihood =1\n",
    "        \n",
    "        println(\"doroste\")\n",
    "        for idx in 1:total_features\n",
    "            @show feature = row[idx]\n",
    "            mean_ = features_val[\"summary\"][idx][\"mean\"]\n",
    "            std_ = features_val[\"summary\"][idx][\"std\"]\n",
    "            normal_proba = distribution(feature,std_,mean_)\n",
    "            likelihood *= normal_proba\n",
    "        end\n",
    "        prior_proba = features_val[\"prior_proba\"]\n",
    "        joint_proba[class_name] = prior_proba * likelihood\n",
    "\n",
    "        println(\"==============\")\n",
    "    end\n",
    "end\n",
    "    "
   ]
  },
  {
   "cell_type": "code",
   "execution_count": 72,
   "metadata": {},
   "outputs": [
    {
     "data": {
      "text/plain": [
       "4-element Vector{Any}:\n",
       " 0.5089370796981307\n",
       " 0.5605686596006915\n",
       " 0.48649128685845094\n",
       " 0.48173850033600013"
      ]
     },
     "metadata": {},
     "output_type": "display_data"
    }
   ],
   "source": [
    "class_summary[1][\"summary\"][\"mean\"]"
   ]
  },
  {
   "cell_type": "code",
   "execution_count": 21,
   "metadata": {},
   "outputs": [
    {
     "ename": "UndefVarError",
     "evalue": "UndefVarError: a not defined",
     "output_type": "error",
     "traceback": [
      "UndefVarError: a not defined\n",
      "\n",
      "Stacktrace:\n",
      " [1] top-level scope\n",
      "   @ c:\\0.Files\\Code\\JULIA\\ML_with_julia\\naive_bayes.ipynb:1"
     ]
    }
   ],
   "source": [
    "[item.first=>item.second[i] for (i,item) in enumerate(a)]"
   ]
  },
  {
   "cell_type": "code",
   "execution_count": 22,
   "metadata": {},
   "outputs": [
    {
     "ename": "UndefVarError",
     "evalue": "UndefVarError: a not defined",
     "output_type": "error",
     "traceback": [
      "UndefVarError: a not defined\n",
      "\n",
      "Stacktrace:\n",
      " [1] top-level scope\n",
      "   @ c:\\0.Files\\Code\\JULIA\\ML_with_julia\\naive_bayes.ipynb:1"
     ]
    }
   ],
   "source": [
    "for key in keys(a)\n",
    "    for (i,item) in enumerate(a[key])\n",
    "        println(key=>item)\n",
    "    end\n",
    "end"
   ]
  },
  {
   "cell_type": "code",
   "execution_count": 23,
   "metadata": {},
   "outputs": [
    {
     "data": {
      "text/plain": [
       "5×5 Matrix{Pair{Int64, Int64}}:\n",
       " 1=>1  1=>2  1=>3  1=>4  1=>5\n",
       " 2=>1  2=>2  2=>3  2=>4  2=>5\n",
       " 3=>1  3=>2  3=>3  3=>4  3=>5\n",
       " 4=>1  4=>2  4=>3  4=>4  4=>5\n",
       " 5=>1  5=>2  5=>3  5=>4  5=>5"
      ]
     },
     "metadata": {},
     "output_type": "display_data"
    }
   ],
   "source": [
    "[i=>j for i in 1:5,j in 1:5]"
   ]
  },
  {
   "cell_type": "code",
   "execution_count": 24,
   "metadata": {},
   "outputs": [],
   "source": []
  },
  {
   "cell_type": "code",
   "execution_count": null,
   "metadata": {},
   "outputs": [],
   "source": []
  }
 ],
 "metadata": {
  "kernelspec": {
   "display_name": "Julia 1.8.5",
   "language": "julia",
   "name": "julia-1.8"
  },
  "language_info": {
   "file_extension": ".jl",
   "mimetype": "application/julia",
   "name": "julia",
   "version": "1.8.5"
  },
  "orig_nbformat": 4
 },
 "nbformat": 4,
 "nbformat_minor": 2
}
